{
 "cells": [
  {
   "cell_type": "code",
   "execution_count": 2,
   "metadata": {},
   "outputs": [],
   "source": [
    "import pandas as pd\n",
    "import nltk\n",
    "import matplotlib.pyplot as plt\n",
    "from gensim.models import Word2Vec\n",
    "import re\n",
    "import multiprocessing\n",
    "from gensim.models.phrases import Phrases, Phraser\n",
    "from collections import defaultdict\n",
    "from time import time\n",
    "import spacy\n",
    "import logging\n",
    "from gensim.models import KeyedVectors\n",
    "from gensim.test.utils import datapath\n",
    "logging.basicConfig(format=\"%(levelname)s - %(asctime)s: %(message)s\", datefmt= '%H:%M:%S', level=logging.INFO)\n"
   ]
  },
  {
   "cell_type": "code",
   "execution_count": 4,
   "metadata": {},
   "outputs": [
    {
     "data": {
      "text/html": [
       "<div>\n",
       "<style scoped>\n",
       "    .dataframe tbody tr th:only-of-type {\n",
       "        vertical-align: middle;\n",
       "    }\n",
       "\n",
       "    .dataframe tbody tr th {\n",
       "        vertical-align: top;\n",
       "    }\n",
       "\n",
       "    .dataframe thead th {\n",
       "        text-align: right;\n",
       "    }\n",
       "</style>\n",
       "<table border=\"1\" class=\"dataframe\">\n",
       "  <thead>\n",
       "    <tr style=\"text-align: right;\">\n",
       "      <th></th>\n",
       "      <th>external_author_id</th>\n",
       "      <th>author</th>\n",
       "      <th>content</th>\n",
       "      <th>region</th>\n",
       "      <th>language</th>\n",
       "      <th>publish_date</th>\n",
       "      <th>harvested_date</th>\n",
       "      <th>following</th>\n",
       "      <th>followers</th>\n",
       "      <th>updates</th>\n",
       "      <th>...</th>\n",
       "      <th>account_type</th>\n",
       "      <th>retweet</th>\n",
       "      <th>account_category</th>\n",
       "      <th>new_june_2018</th>\n",
       "      <th>alt_external_id</th>\n",
       "      <th>tweet_id</th>\n",
       "      <th>article_url</th>\n",
       "      <th>tco1_step1</th>\n",
       "      <th>tco2_step1</th>\n",
       "      <th>tco3_step1</th>\n",
       "    </tr>\n",
       "  </thead>\n",
       "  <tbody>\n",
       "    <tr>\n",
       "      <td>0</td>\n",
       "      <td>906000000000000000</td>\n",
       "      <td>10_GOP</td>\n",
       "      <td>\"We have a sitting Democrat US Senator on tria...</td>\n",
       "      <td>Unknown</td>\n",
       "      <td>English</td>\n",
       "      <td>10/1/2017 19:58</td>\n",
       "      <td>10/1/2017 19:59</td>\n",
       "      <td>1052</td>\n",
       "      <td>9636</td>\n",
       "      <td>253</td>\n",
       "      <td>...</td>\n",
       "      <td>Right</td>\n",
       "      <td>0</td>\n",
       "      <td>RightTroll</td>\n",
       "      <td>0</td>\n",
       "      <td>905874659358453760</td>\n",
       "      <td>914580356430536707</td>\n",
       "      <td>http://twitter.com/905874659358453760/statuses...</td>\n",
       "      <td>https://twitter.com/10_gop/status/914580356430...</td>\n",
       "      <td>NaN</td>\n",
       "      <td>NaN</td>\n",
       "    </tr>\n",
       "    <tr>\n",
       "      <td>1</td>\n",
       "      <td>906000000000000000</td>\n",
       "      <td>10_GOP</td>\n",
       "      <td>Marshawn Lynch arrives to game in anti-Trump s...</td>\n",
       "      <td>Unknown</td>\n",
       "      <td>English</td>\n",
       "      <td>10/1/2017 22:43</td>\n",
       "      <td>10/1/2017 22:43</td>\n",
       "      <td>1054</td>\n",
       "      <td>9637</td>\n",
       "      <td>254</td>\n",
       "      <td>...</td>\n",
       "      <td>Right</td>\n",
       "      <td>0</td>\n",
       "      <td>RightTroll</td>\n",
       "      <td>0</td>\n",
       "      <td>905874659358453760</td>\n",
       "      <td>914621840496189440</td>\n",
       "      <td>http://twitter.com/905874659358453760/statuses...</td>\n",
       "      <td>https://twitter.com/damienwoody/status/9145685...</td>\n",
       "      <td>NaN</td>\n",
       "      <td>NaN</td>\n",
       "    </tr>\n",
       "    <tr>\n",
       "      <td>2</td>\n",
       "      <td>906000000000000000</td>\n",
       "      <td>10_GOP</td>\n",
       "      <td>Daughter of fallen Navy Sailor delivers powerf...</td>\n",
       "      <td>Unknown</td>\n",
       "      <td>English</td>\n",
       "      <td>10/1/2017 22:50</td>\n",
       "      <td>10/1/2017 22:51</td>\n",
       "      <td>1054</td>\n",
       "      <td>9637</td>\n",
       "      <td>255</td>\n",
       "      <td>...</td>\n",
       "      <td>Right</td>\n",
       "      <td>1</td>\n",
       "      <td>RightTroll</td>\n",
       "      <td>0</td>\n",
       "      <td>905874659358453760</td>\n",
       "      <td>914623490375979008</td>\n",
       "      <td>http://twitter.com/905874659358453760/statuses...</td>\n",
       "      <td>https://twitter.com/10_gop/status/913231923715...</td>\n",
       "      <td>NaN</td>\n",
       "      <td>NaN</td>\n",
       "    </tr>\n",
       "    <tr>\n",
       "      <td>3</td>\n",
       "      <td>906000000000000000</td>\n",
       "      <td>10_GOP</td>\n",
       "      <td>JUST IN: President Trump dedicates Presidents ...</td>\n",
       "      <td>Unknown</td>\n",
       "      <td>English</td>\n",
       "      <td>10/1/2017 23:52</td>\n",
       "      <td>10/1/2017 23:52</td>\n",
       "      <td>1062</td>\n",
       "      <td>9642</td>\n",
       "      <td>256</td>\n",
       "      <td>...</td>\n",
       "      <td>Right</td>\n",
       "      <td>0</td>\n",
       "      <td>RightTroll</td>\n",
       "      <td>0</td>\n",
       "      <td>905874659358453760</td>\n",
       "      <td>914639143690555392</td>\n",
       "      <td>http://twitter.com/905874659358453760/statuses...</td>\n",
       "      <td>https://twitter.com/10_gop/status/914639143690...</td>\n",
       "      <td>NaN</td>\n",
       "      <td>NaN</td>\n",
       "    </tr>\n",
       "    <tr>\n",
       "      <td>4</td>\n",
       "      <td>906000000000000000</td>\n",
       "      <td>10_GOP</td>\n",
       "      <td>19,000 RESPECTING our National Anthem! #StandF...</td>\n",
       "      <td>Unknown</td>\n",
       "      <td>English</td>\n",
       "      <td>10/1/2017 2:13</td>\n",
       "      <td>10/1/2017 2:13</td>\n",
       "      <td>1050</td>\n",
       "      <td>9645</td>\n",
       "      <td>246</td>\n",
       "      <td>...</td>\n",
       "      <td>Right</td>\n",
       "      <td>1</td>\n",
       "      <td>RightTroll</td>\n",
       "      <td>0</td>\n",
       "      <td>905874659358453760</td>\n",
       "      <td>914312219952861184</td>\n",
       "      <td>http://twitter.com/905874659358453760/statuses...</td>\n",
       "      <td>https://twitter.com/realDonaldTrump/status/914...</td>\n",
       "      <td>NaN</td>\n",
       "      <td>NaN</td>\n",
       "    </tr>\n",
       "  </tbody>\n",
       "</table>\n",
       "<p>5 rows × 21 columns</p>\n",
       "</div>"
      ],
      "text/plain": [
       "   external_author_id  author  \\\n",
       "0  906000000000000000  10_GOP   \n",
       "1  906000000000000000  10_GOP   \n",
       "2  906000000000000000  10_GOP   \n",
       "3  906000000000000000  10_GOP   \n",
       "4  906000000000000000  10_GOP   \n",
       "\n",
       "                                             content   region language  \\\n",
       "0  \"We have a sitting Democrat US Senator on tria...  Unknown  English   \n",
       "1  Marshawn Lynch arrives to game in anti-Trump s...  Unknown  English   \n",
       "2  Daughter of fallen Navy Sailor delivers powerf...  Unknown  English   \n",
       "3  JUST IN: President Trump dedicates Presidents ...  Unknown  English   \n",
       "4  19,000 RESPECTING our National Anthem! #StandF...  Unknown  English   \n",
       "\n",
       "      publish_date   harvested_date  following  followers  updates  ...  \\\n",
       "0  10/1/2017 19:58  10/1/2017 19:59       1052       9636      253  ...   \n",
       "1  10/1/2017 22:43  10/1/2017 22:43       1054       9637      254  ...   \n",
       "2  10/1/2017 22:50  10/1/2017 22:51       1054       9637      255  ...   \n",
       "3  10/1/2017 23:52  10/1/2017 23:52       1062       9642      256  ...   \n",
       "4   10/1/2017 2:13   10/1/2017 2:13       1050       9645      246  ...   \n",
       "\n",
       "  account_type retweet  account_category new_june_2018     alt_external_id  \\\n",
       "0        Right       0        RightTroll             0  905874659358453760   \n",
       "1        Right       0        RightTroll             0  905874659358453760   \n",
       "2        Right       1        RightTroll             0  905874659358453760   \n",
       "3        Right       0        RightTroll             0  905874659358453760   \n",
       "4        Right       1        RightTroll             0  905874659358453760   \n",
       "\n",
       "             tweet_id                                        article_url  \\\n",
       "0  914580356430536707  http://twitter.com/905874659358453760/statuses...   \n",
       "1  914621840496189440  http://twitter.com/905874659358453760/statuses...   \n",
       "2  914623490375979008  http://twitter.com/905874659358453760/statuses...   \n",
       "3  914639143690555392  http://twitter.com/905874659358453760/statuses...   \n",
       "4  914312219952861184  http://twitter.com/905874659358453760/statuses...   \n",
       "\n",
       "                                          tco1_step1 tco2_step1 tco3_step1  \n",
       "0  https://twitter.com/10_gop/status/914580356430...        NaN        NaN  \n",
       "1  https://twitter.com/damienwoody/status/9145685...        NaN        NaN  \n",
       "2  https://twitter.com/10_gop/status/913231923715...        NaN        NaN  \n",
       "3  https://twitter.com/10_gop/status/914639143690...        NaN        NaN  \n",
       "4  https://twitter.com/realDonaldTrump/status/914...        NaN        NaN  \n",
       "\n",
       "[5 rows x 21 columns]"
      ]
     },
     "execution_count": 4,
     "metadata": {},
     "output_type": "execute_result"
    }
   ],
   "source": [
    "df=pd.read_csv(\"IRAhandle_tweets_1.csv\")\n",
    "df.head()"
   ]
  },
  {
   "cell_type": "code",
   "execution_count": 5,
   "metadata": {},
   "outputs": [],
   "source": [
    "nlp = spacy.load('en', disable=['ner', 'parser']) # disabling Named Entity Recognition for speed\n",
    "\n",
    "def cleaning(doc):\n",
    "    # Lemmatizes and removes stopwords\n",
    "    # doc needs to be a spacy Doc object\n",
    "    txt = [token.lemma_ for token in doc if not token.is_stop]\n",
    "    # Word2Vec uses context words to learn the vector representation of a target word,\n",
    "    # if a sentence is only one or two words long,\n",
    "    # the benefit for the training is very small\n",
    "    if len(txt) > 2:\n",
    "        return ' '.join(txt)\n"
   ]
  },
  {
   "cell_type": "code",
   "execution_count": 6,
   "metadata": {},
   "outputs": [],
   "source": [
    "brief_cleaning = (re.sub(\"[^A-Za-z']+\", ' ', str(row)).lower() for row in df['content'])"
   ]
  },
  {
   "cell_type": "code",
   "execution_count": 7,
   "metadata": {},
   "outputs": [],
   "source": [
    "#t = time()\n",
    "\n",
    "#txt = [cleaning(doc) for doc in nlp.pipe(brief_cleaning, batch_size=5000, n_threads=-1)]\n",
    "\n",
    "#print('Time to clean up everything: {} mins'.format(round((time() - t) / 60, 2)))"
   ]
  },
  {
   "cell_type": "code",
   "execution_count": 8,
   "metadata": {},
   "outputs": [
    {
     "data": {
      "text/plain": [
       "(243891, 1)"
      ]
     },
     "execution_count": 8,
     "metadata": {},
     "output_type": "execute_result"
    }
   ],
   "source": [
    "df_clean = pd.DataFrame({'clean': brief_cleaning})\n",
    "df_clean.shape\n"
   ]
  },
  {
   "cell_type": "code",
   "execution_count": null,
   "metadata": {},
   "outputs": [],
   "source": []
  },
  {
   "cell_type": "code",
   "execution_count": 9,
   "metadata": {},
   "outputs": [],
   "source": [
    "sent = [row.split() for row in df_clean['clean']]"
   ]
  },
  {
   "cell_type": "code",
   "execution_count": null,
   "metadata": {},
   "outputs": [],
   "source": []
  },
  {
   "cell_type": "code",
   "execution_count": 10,
   "metadata": {},
   "outputs": [
    {
     "name": "stderr",
     "output_type": "stream",
     "text": [
      "INFO - 12:39:30: collecting all words and their counts\n",
      "INFO - 12:39:30: PROGRESS: at sentence #0, processed 0 words and 0 word types\n",
      "INFO - 12:39:31: PROGRESS: at sentence #10000, processed 148296 words and 115304 word types\n",
      "INFO - 12:39:32: PROGRESS: at sentence #20000, processed 280346 words and 200559 word types\n",
      "INFO - 12:39:32: PROGRESS: at sentence #30000, processed 461400 words and 290712 word types\n",
      "INFO - 12:39:33: PROGRESS: at sentence #40000, processed 651163 words and 349007 word types\n",
      "INFO - 12:39:34: PROGRESS: at sentence #50000, processed 760360 words and 400085 word types\n",
      "INFO - 12:39:34: PROGRESS: at sentence #60000, processed 945592 words and 498399 word types\n",
      "INFO - 12:39:35: PROGRESS: at sentence #70000, processed 1103971 words and 580856 word types\n",
      "INFO - 12:39:35: PROGRESS: at sentence #80000, processed 1248160 words and 645511 word types\n",
      "INFO - 12:39:36: PROGRESS: at sentence #90000, processed 1356302 words and 691111 word types\n",
      "INFO - 12:39:37: PROGRESS: at sentence #100000, processed 1560059 words and 786224 word types\n",
      "INFO - 12:39:37: PROGRESS: at sentence #110000, processed 1758372 words and 880377 word types\n",
      "INFO - 12:39:38: PROGRESS: at sentence #120000, processed 1961164 words and 978075 word types\n",
      "INFO - 12:39:39: PROGRESS: at sentence #130000, processed 2153978 words and 1065491 word types\n",
      "INFO - 12:39:40: PROGRESS: at sentence #140000, processed 2323321 words and 1120234 word types\n",
      "INFO - 12:39:40: PROGRESS: at sentence #150000, processed 2463705 words and 1172917 word types\n",
      "INFO - 12:39:41: PROGRESS: at sentence #160000, processed 2584371 words and 1218829 word types\n",
      "INFO - 12:39:41: PROGRESS: at sentence #170000, processed 2756313 words and 1280110 word types\n",
      "INFO - 12:39:42: PROGRESS: at sentence #180000, processed 2903556 words and 1348666 word types\n",
      "INFO - 12:39:43: PROGRESS: at sentence #190000, processed 3044854 words and 1407318 word types\n",
      "INFO - 12:39:43: PROGRESS: at sentence #200000, processed 3178276 words and 1456241 word types\n",
      "INFO - 12:39:44: PROGRESS: at sentence #210000, processed 3343881 words and 1513716 word types\n",
      "INFO - 12:39:44: PROGRESS: at sentence #220000, processed 3482434 words and 1577116 word types\n",
      "INFO - 12:39:45: PROGRESS: at sentence #230000, processed 3635884 words and 1624855 word types\n",
      "INFO - 12:39:45: PROGRESS: at sentence #240000, processed 3802625 words and 1690101 word types\n",
      "INFO - 12:39:46: collected 1717307 word types from a corpus of 3873993 words (unigram + bigrams) and 243891 sentences\n",
      "INFO - 12:39:46: using 1717307 counts as vocab in Phrases<0 vocab, min_count=30, threshold=10.0, max_vocab_size=40000000>\n"
     ]
    }
   ],
   "source": [
    "phrases = Phrases(sent, min_count=30, progress_per=10000)\n"
   ]
  },
  {
   "cell_type": "code",
   "execution_count": 11,
   "metadata": {},
   "outputs": [
    {
     "name": "stderr",
     "output_type": "stream",
     "text": [
      "INFO - 12:39:46: source_vocab length 1717307\n",
      "INFO - 12:40:26: Phraser built with 2990 phrasegrams\n"
     ]
    }
   ],
   "source": [
    "bigram = Phraser(phrases)"
   ]
  },
  {
   "cell_type": "code",
   "execution_count": 12,
   "metadata": {},
   "outputs": [],
   "source": [
    "sentences = bigram[sent]"
   ]
  },
  {
   "cell_type": "code",
   "execution_count": 13,
   "metadata": {},
   "outputs": [
    {
     "data": {
      "text/plain": [
       "358590"
      ]
     },
     "execution_count": 13,
     "metadata": {},
     "output_type": "execute_result"
    }
   ],
   "source": [
    "word_freq = defaultdict(int)\n",
    "for sent in sentences:\n",
    "    for i in sent:\n",
    "        word_freq[i] += 1\n",
    "len(word_freq)"
   ]
  },
  {
   "cell_type": "code",
   "execution_count": 17,
   "metadata": {},
   "outputs": [
    {
     "data": {
      "text/plain": [
       "['trump',\n",
       " 'you',\n",
       " 's',\n",
       " 'it',\n",
       " 'that',\n",
       " 'with',\n",
       " 'at',\n",
       " 'this',\n",
       " 'are',\n",
       " 'all',\n",
       " 'not',\n",
       " 'by',\n",
       " 'my',\n",
       " 'your',\n",
       " 'amp',\n",
       " 'from',\n",
       " 'e',\n",
       " 'just',\n",
       " 'u',\n",
       " 'as',\n",
       " 'be',\n",
       " 'w',\n",
       " 'we',\n",
       " 'm']"
      ]
     },
     "execution_count": 17,
     "metadata": {},
     "output_type": "execute_result"
    }
   ],
   "source": [
    "sorted(word_freq, key=word_freq.get, reverse=True)[16:40]"
   ]
  },
  {
   "cell_type": "code",
   "execution_count": 12,
   "metadata": {},
   "outputs": [
    {
     "data": {
      "text/plain": [
       "8"
      ]
     },
     "execution_count": 12,
     "metadata": {},
     "output_type": "execute_result"
    }
   ],
   "source": [
    "cores = multiprocessing.cpu_count()\n",
    "cores"
   ]
  },
  {
   "cell_type": "code",
   "execution_count": 44,
   "metadata": {},
   "outputs": [],
   "source": [
    "w2v_model = Word2Vec(min_count=20,\n",
    "                     window=2,\n",
    "                     size=200,\n",
    "                     sample=6e-5, \n",
    "                     alpha=0.03, \n",
    "                     min_alpha=0.0007, \n",
    "                     negative=20,\n",
    "                     workers=cores-1)"
   ]
  },
  {
   "cell_type": "code",
   "execution_count": 19,
   "metadata": {},
   "outputs": [
    {
     "ename": "NameError",
     "evalue": "name 'w2v_model' is not defined",
     "output_type": "error",
     "traceback": [
      "\u001b[1;31m---------------------------------------------------------------------------\u001b[0m",
      "\u001b[1;31mNameError\u001b[0m                                 Traceback (most recent call last)",
      "\u001b[1;32m<ipython-input-19-ab64ca1ec5a3>\u001b[0m in \u001b[0;36m<module>\u001b[1;34m\u001b[0m\n\u001b[0;32m      1\u001b[0m \u001b[0mt\u001b[0m \u001b[1;33m=\u001b[0m \u001b[0mtime\u001b[0m\u001b[1;33m(\u001b[0m\u001b[1;33m)\u001b[0m\u001b[1;33m\u001b[0m\u001b[1;33m\u001b[0m\u001b[0m\n\u001b[0;32m      2\u001b[0m \u001b[1;33m\u001b[0m\u001b[0m\n\u001b[1;32m----> 3\u001b[1;33m \u001b[0mw2v_model\u001b[0m\u001b[1;33m.\u001b[0m\u001b[0mbuild_vocab\u001b[0m\u001b[1;33m(\u001b[0m\u001b[0msentences\u001b[0m\u001b[1;33m,\u001b[0m \u001b[0mprogress_per\u001b[0m\u001b[1;33m=\u001b[0m\u001b[1;36m10000\u001b[0m\u001b[1;33m)\u001b[0m\u001b[1;33m\u001b[0m\u001b[1;33m\u001b[0m\u001b[0m\n\u001b[0m\u001b[0;32m      4\u001b[0m \u001b[1;33m\u001b[0m\u001b[0m\n\u001b[0;32m      5\u001b[0m \u001b[0mprint\u001b[0m\u001b[1;33m(\u001b[0m\u001b[1;34m'Time to build vocab: {} mins'\u001b[0m\u001b[1;33m.\u001b[0m\u001b[0mformat\u001b[0m\u001b[1;33m(\u001b[0m\u001b[0mround\u001b[0m\u001b[1;33m(\u001b[0m\u001b[1;33m(\u001b[0m\u001b[0mtime\u001b[0m\u001b[1;33m(\u001b[0m\u001b[1;33m)\u001b[0m \u001b[1;33m-\u001b[0m \u001b[0mt\u001b[0m\u001b[1;33m)\u001b[0m \u001b[1;33m/\u001b[0m \u001b[1;36m60\u001b[0m\u001b[1;33m,\u001b[0m \u001b[1;36m2\u001b[0m\u001b[1;33m)\u001b[0m\u001b[1;33m)\u001b[0m\u001b[1;33m)\u001b[0m\u001b[1;33m\u001b[0m\u001b[1;33m\u001b[0m\u001b[0m\n",
      "\u001b[1;31mNameError\u001b[0m: name 'w2v_model' is not defined"
     ]
    }
   ],
   "source": [
    "t = time()\n",
    "\n",
    "w2v_model.build_vocab(sentences, progress_per=10000)\n",
    "\n",
    "print('Time to build vocab: {} mins'.format(round((time() - t) / 60, 2)))"
   ]
  },
  {
   "cell_type": "code",
   "execution_count": 46,
   "metadata": {},
   "outputs": [
    {
     "name": "stderr",
     "output_type": "stream",
     "text": [
      "INFO - 00:35:50: training model with 7 workers on 12524 vocabulary and 200 features, using sg=0 hs=0 sample=6e-05 negative=20 window=2\n",
      "INFO - 00:35:51: EPOCH 1 - PROGRESS: at 10.43% examples, 130181 words/s, in_qsize 1, out_qsize 0\n",
      "INFO - 00:35:52: EPOCH 1 - PROGRESS: at 21.76% examples, 144636 words/s, in_qsize 0, out_qsize 0\n",
      "INFO - 00:35:53: EPOCH 1 - PROGRESS: at 32.40% examples, 147247 words/s, in_qsize 0, out_qsize 1\n",
      "INFO - 00:35:54: EPOCH 1 - PROGRESS: at 43.28% examples, 151609 words/s, in_qsize 0, out_qsize 0\n",
      "INFO - 00:35:55: EPOCH 1 - PROGRESS: at 52.00% examples, 155189 words/s, in_qsize 1, out_qsize 0\n",
      "INFO - 00:35:56: EPOCH 1 - PROGRESS: at 63.52% examples, 155990 words/s, in_qsize 0, out_qsize 0\n",
      "INFO - 00:35:57: EPOCH 1 - PROGRESS: at 75.64% examples, 154694 words/s, in_qsize 0, out_qsize 0\n",
      "INFO - 00:35:58: EPOCH 1 - PROGRESS: at 87.07% examples, 153750 words/s, in_qsize 0, out_qsize 1\n",
      "INFO - 00:35:59: EPOCH 1 - PROGRESS: at 98.30% examples, 154020 words/s, in_qsize 0, out_qsize 0\n",
      "INFO - 00:35:59: worker thread finished; awaiting finish of 6 more threads\n",
      "INFO - 00:35:59: worker thread finished; awaiting finish of 5 more threads\n",
      "INFO - 00:35:59: worker thread finished; awaiting finish of 4 more threads\n",
      "INFO - 00:35:59: worker thread finished; awaiting finish of 3 more threads\n",
      "INFO - 00:35:59: worker thread finished; awaiting finish of 2 more threads\n",
      "INFO - 00:35:59: worker thread finished; awaiting finish of 1 more threads\n",
      "INFO - 00:35:59: worker thread finished; awaiting finish of 0 more threads\n",
      "INFO - 00:35:59: EPOCH - 1 : training on 3638618 raw words (1436095 effective words) took 9.3s, 153907 effective words/s\n",
      "INFO - 00:36:00: EPOCH 2 - PROGRESS: at 9.97% examples, 124032 words/s, in_qsize 0, out_qsize 0\n",
      "INFO - 00:36:01: EPOCH 2 - PROGRESS: at 19.34% examples, 126232 words/s, in_qsize 0, out_qsize 1\n",
      "INFO - 00:36:02: EPOCH 2 - PROGRESS: at 30.25% examples, 137303 words/s, in_qsize 0, out_qsize 0\n",
      "INFO - 00:36:03: EPOCH 2 - PROGRESS: at 40.69% examples, 139697 words/s, in_qsize 0, out_qsize 0\n",
      "INFO - 00:36:04: EPOCH 2 - PROGRESS: at 49.50% examples, 146285 words/s, in_qsize 0, out_qsize 0\n",
      "INFO - 00:36:05: EPOCH 2 - PROGRESS: at 59.43% examples, 148267 words/s, in_qsize 0, out_qsize 0\n",
      "INFO - 00:36:07: EPOCH 2 - PROGRESS: at 71.41% examples, 149861 words/s, in_qsize 0, out_qsize 1\n",
      "INFO - 00:36:08: EPOCH 2 - PROGRESS: at 83.30% examples, 149228 words/s, in_qsize 0, out_qsize 0\n",
      "INFO - 00:36:09: EPOCH 2 - PROGRESS: at 88.24% examples, 139571 words/s, in_qsize 0, out_qsize 0\n",
      "INFO - 00:36:10: EPOCH 2 - PROGRESS: at 98.08% examples, 139013 words/s, in_qsize 0, out_qsize 0\n",
      "INFO - 00:36:10: worker thread finished; awaiting finish of 6 more threads\n",
      "INFO - 00:36:10: worker thread finished; awaiting finish of 5 more threads\n",
      "INFO - 00:36:10: worker thread finished; awaiting finish of 4 more threads\n",
      "INFO - 00:36:10: worker thread finished; awaiting finish of 3 more threads\n",
      "INFO - 00:36:10: worker thread finished; awaiting finish of 2 more threads\n",
      "INFO - 00:36:10: worker thread finished; awaiting finish of 1 more threads\n",
      "INFO - 00:36:10: worker thread finished; awaiting finish of 0 more threads\n",
      "INFO - 00:36:10: EPOCH - 2 : training on 3638618 raw words (1435876 effective words) took 10.4s, 138708 effective words/s\n",
      "INFO - 00:36:11: EPOCH 3 - PROGRESS: at 10.19% examples, 126899 words/s, in_qsize 0, out_qsize 0\n",
      "INFO - 00:36:12: EPOCH 3 - PROGRESS: at 20.56% examples, 132770 words/s, in_qsize 0, out_qsize 0\n",
      "INFO - 00:36:13: EPOCH 3 - PROGRESS: at 30.25% examples, 135114 words/s, in_qsize 0, out_qsize 0\n",
      "INFO - 00:36:14: EPOCH 3 - PROGRESS: at 41.12% examples, 140056 words/s, in_qsize 0, out_qsize 0\n",
      "INFO - 00:36:15: EPOCH 3 - PROGRESS: at 49.96% examples, 146316 words/s, in_qsize 0, out_qsize 0\n",
      "INFO - 00:36:16: EPOCH 3 - PROGRESS: at 59.67% examples, 147670 words/s, in_qsize 0, out_qsize 0\n",
      "INFO - 00:36:17: EPOCH 3 - PROGRESS: at 70.97% examples, 148096 words/s, in_qsize 0, out_qsize 0\n",
      "INFO - 00:36:18: EPOCH 3 - PROGRESS: at 82.86% examples, 147368 words/s, in_qsize 0, out_qsize 0\n",
      "INFO - 00:36:19: EPOCH 3 - PROGRESS: at 94.90% examples, 148555 words/s, in_qsize 0, out_qsize 0\n",
      "INFO - 00:36:19: worker thread finished; awaiting finish of 6 more threads\n",
      "INFO - 00:36:19: worker thread finished; awaiting finish of 5 more threads\n",
      "INFO - 00:36:19: worker thread finished; awaiting finish of 4 more threads\n",
      "INFO - 00:36:19: worker thread finished; awaiting finish of 3 more threads\n",
      "INFO - 00:36:19: worker thread finished; awaiting finish of 2 more threads\n",
      "INFO - 00:36:19: worker thread finished; awaiting finish of 1 more threads\n",
      "INFO - 00:36:19: worker thread finished; awaiting finish of 0 more threads\n",
      "INFO - 00:36:19: EPOCH - 3 : training on 3638618 raw words (1434979 effective words) took 9.7s, 148210 effective words/s\n",
      "INFO - 00:36:21: EPOCH 4 - PROGRESS: at 10.43% examples, 130208 words/s, in_qsize 0, out_qsize 0\n",
      "INFO - 00:36:22: EPOCH 4 - PROGRESS: at 21.99% examples, 144947 words/s, in_qsize 0, out_qsize 1\n",
      "INFO - 00:36:23: EPOCH 4 - PROGRESS: at 32.79% examples, 146357 words/s, in_qsize 0, out_qsize 1\n",
      "INFO - 00:36:24: EPOCH 4 - PROGRESS: at 43.50% examples, 150782 words/s, in_qsize 0, out_qsize 0\n",
      "INFO - 00:36:25: EPOCH 4 - PROGRESS: at 52.00% examples, 153164 words/s, in_qsize 0, out_qsize 0\n",
      "INFO - 00:36:26: EPOCH 4 - PROGRESS: at 62.77% examples, 152861 words/s, in_qsize 0, out_qsize 0\n",
      "INFO - 00:36:27: EPOCH 4 - PROGRESS: at 72.79% examples, 150427 words/s, in_qsize 0, out_qsize 0\n",
      "INFO - 00:36:28: EPOCH 4 - PROGRESS: at 83.77% examples, 148546 words/s, in_qsize 0, out_qsize 0\n",
      "INFO - 00:36:29: EPOCH 4 - PROGRESS: at 94.90% examples, 148054 words/s, in_qsize 0, out_qsize 0\n",
      "INFO - 00:36:29: worker thread finished; awaiting finish of 6 more threads\n",
      "INFO - 00:36:29: worker thread finished; awaiting finish of 5 more threads\n",
      "INFO - 00:36:29: worker thread finished; awaiting finish of 4 more threads\n",
      "INFO - 00:36:29: worker thread finished; awaiting finish of 3 more threads\n",
      "INFO - 00:36:29: worker thread finished; awaiting finish of 2 more threads\n",
      "INFO - 00:36:29: worker thread finished; awaiting finish of 1 more threads\n",
      "INFO - 00:36:29: worker thread finished; awaiting finish of 0 more threads\n",
      "INFO - 00:36:29: EPOCH - 4 : training on 3638618 raw words (1435725 effective words) took 9.8s, 146909 effective words/s\n",
      "INFO - 00:36:30: EPOCH 5 - PROGRESS: at 11.34% examples, 142528 words/s, in_qsize 0, out_qsize 0\n",
      "INFO - 00:36:31: EPOCH 5 - PROGRESS: at 21.24% examples, 141035 words/s, in_qsize 0, out_qsize 0\n",
      "INFO - 00:36:32: EPOCH 5 - PROGRESS: at 31.98% examples, 143350 words/s, in_qsize 1, out_qsize 0\n",
      "INFO - 00:36:33: EPOCH 5 - PROGRESS: at 41.98% examples, 144569 words/s, in_qsize 0, out_qsize 0\n",
      "INFO - 00:36:34: EPOCH 5 - PROGRESS: at 50.19% examples, 147742 words/s, in_qsize 0, out_qsize 0\n",
      "INFO - 00:36:35: EPOCH 5 - PROGRESS: at 58.52% examples, 145641 words/s, in_qsize 0, out_qsize 0\n",
      "INFO - 00:36:36: EPOCH 5 - PROGRESS: at 69.85% examples, 145624 words/s, in_qsize 0, out_qsize 0\n",
      "INFO - 00:36:37: EPOCH 5 - PROGRESS: at 81.26% examples, 143905 words/s, in_qsize 0, out_qsize 0\n",
      "INFO - 00:36:38: EPOCH 5 - PROGRESS: at 89.13% examples, 140710 words/s, in_qsize 0, out_qsize 0\n",
      "INFO - 00:36:39: EPOCH 5 - PROGRESS: at 99.24% examples, 139863 words/s, in_qsize 0, out_qsize 0\n",
      "INFO - 00:36:39: worker thread finished; awaiting finish of 6 more threads\n",
      "INFO - 00:36:39: worker thread finished; awaiting finish of 5 more threads\n",
      "INFO - 00:36:39: worker thread finished; awaiting finish of 4 more threads\n",
      "INFO - 00:36:39: worker thread finished; awaiting finish of 3 more threads\n",
      "INFO - 00:36:39: worker thread finished; awaiting finish of 2 more threads\n",
      "INFO - 00:36:39: worker thread finished; awaiting finish of 1 more threads\n",
      "INFO - 00:36:39: worker thread finished; awaiting finish of 0 more threads\n",
      "INFO - 00:36:39: EPOCH - 5 : training on 3638618 raw words (1435797 effective words) took 10.2s, 140373 effective words/s\n",
      "INFO - 00:36:41: EPOCH 6 - PROGRESS: at 9.48% examples, 116148 words/s, in_qsize 0, out_qsize 0\n",
      "INFO - 00:36:42: EPOCH 6 - PROGRESS: at 16.53% examples, 116881 words/s, in_qsize 0, out_qsize 0\n",
      "INFO - 00:36:43: EPOCH 6 - PROGRESS: at 24.30% examples, 110208 words/s, in_qsize 0, out_qsize 0\n"
     ]
    },
    {
     "name": "stderr",
     "output_type": "stream",
     "text": [
      "INFO - 00:36:44: EPOCH 6 - PROGRESS: at 31.98% examples, 107367 words/s, in_qsize 0, out_qsize 0\n",
      "INFO - 00:36:45: EPOCH 6 - PROGRESS: at 42.19% examples, 116508 words/s, in_qsize 0, out_qsize 0\n",
      "INFO - 00:36:46: EPOCH 6 - PROGRESS: at 49.96% examples, 122368 words/s, in_qsize 0, out_qsize 0\n",
      "INFO - 00:36:47: EPOCH 6 - PROGRESS: at 60.05% examples, 126659 words/s, in_qsize 0, out_qsize 0\n",
      "INFO - 00:36:48: EPOCH 6 - PROGRESS: at 71.41% examples, 129640 words/s, in_qsize 0, out_qsize 1\n",
      "INFO - 00:36:49: EPOCH 6 - PROGRESS: at 83.07% examples, 130764 words/s, in_qsize 0, out_qsize 0\n",
      "INFO - 00:36:50: EPOCH 6 - PROGRESS: at 93.19% examples, 131856 words/s, in_qsize 0, out_qsize 0\n",
      "INFO - 00:36:50: worker thread finished; awaiting finish of 6 more threads\n",
      "INFO - 00:36:51: worker thread finished; awaiting finish of 5 more threads\n",
      "INFO - 00:36:51: worker thread finished; awaiting finish of 4 more threads\n",
      "INFO - 00:36:51: worker thread finished; awaiting finish of 3 more threads\n",
      "INFO - 00:36:51: worker thread finished; awaiting finish of 2 more threads\n",
      "INFO - 00:36:51: worker thread finished; awaiting finish of 1 more threads\n",
      "INFO - 00:36:51: worker thread finished; awaiting finish of 0 more threads\n",
      "INFO - 00:36:51: EPOCH - 6 : training on 3638618 raw words (1435635 effective words) took 11.0s, 130310 effective words/s\n",
      "INFO - 00:36:52: EPOCH 7 - PROGRESS: at 9.97% examples, 123424 words/s, in_qsize 0, out_qsize 0\n",
      "INFO - 00:36:53: EPOCH 7 - PROGRESS: at 20.35% examples, 132599 words/s, in_qsize 0, out_qsize 0\n",
      "INFO - 00:36:54: EPOCH 7 - PROGRESS: at 30.03% examples, 135318 words/s, in_qsize 0, out_qsize 0\n",
      "INFO - 00:36:55: EPOCH 7 - PROGRESS: at 40.26% examples, 136928 words/s, in_qsize 0, out_qsize 0\n",
      "INFO - 00:36:56: EPOCH 7 - PROGRESS: at 48.47% examples, 141235 words/s, in_qsize 0, out_qsize 0\n",
      "INFO - 00:36:57: EPOCH 7 - PROGRESS: at 57.59% examples, 143643 words/s, in_qsize 0, out_qsize 0\n",
      "INFO - 00:36:58: EPOCH 7 - PROGRESS: at 68.04% examples, 142203 words/s, in_qsize 0, out_qsize 0\n",
      "INFO - 00:36:59: EPOCH 7 - PROGRESS: at 79.27% examples, 142936 words/s, in_qsize 0, out_qsize 1\n",
      "INFO - 00:37:00: EPOCH 7 - PROGRESS: at 91.35% examples, 144854 words/s, in_qsize 0, out_qsize 1\n",
      "INFO - 00:37:00: worker thread finished; awaiting finish of 6 more threads\n",
      "INFO - 00:37:00: worker thread finished; awaiting finish of 5 more threads\n",
      "INFO - 00:37:00: worker thread finished; awaiting finish of 4 more threads\n",
      "INFO - 00:37:00: worker thread finished; awaiting finish of 3 more threads\n",
      "INFO - 00:37:00: worker thread finished; awaiting finish of 2 more threads\n",
      "INFO - 00:37:00: worker thread finished; awaiting finish of 1 more threads\n",
      "INFO - 00:37:00: worker thread finished; awaiting finish of 0 more threads\n",
      "INFO - 00:37:00: EPOCH - 7 : training on 3638618 raw words (1435560 effective words) took 9.9s, 144778 effective words/s\n",
      "INFO - 00:37:01: EPOCH 8 - PROGRESS: at 11.61% examples, 147331 words/s, in_qsize 0, out_qsize 0\n",
      "INFO - 00:37:02: EPOCH 8 - PROGRESS: at 22.45% examples, 150894 words/s, in_qsize 0, out_qsize 0\n",
      "INFO - 00:37:03: EPOCH 8 - PROGRESS: at 33.37% examples, 149353 words/s, in_qsize 0, out_qsize 1\n",
      "INFO - 00:37:04: EPOCH 8 - PROGRESS: at 43.50% examples, 153760 words/s, in_qsize 0, out_qsize 0\n",
      "INFO - 00:37:06: EPOCH 8 - PROGRESS: at 52.22% examples, 155938 words/s, in_qsize 0, out_qsize 0\n",
      "INFO - 00:37:07: EPOCH 8 - PROGRESS: at 62.06% examples, 152641 words/s, in_qsize 0, out_qsize 0\n",
      "INFO - 00:37:08: EPOCH 8 - PROGRESS: at 69.85% examples, 145866 words/s, in_qsize 0, out_qsize 0\n",
      "INFO - 00:37:09: EPOCH 8 - PROGRESS: at 79.55% examples, 143099 words/s, in_qsize 0, out_qsize 0\n",
      "INFO - 00:37:10: EPOCH 8 - PROGRESS: at 91.10% examples, 143859 words/s, in_qsize 0, out_qsize 1\n",
      "INFO - 00:37:10: worker thread finished; awaiting finish of 6 more threads\n",
      "INFO - 00:37:10: worker thread finished; awaiting finish of 5 more threads\n",
      "INFO - 00:37:10: worker thread finished; awaiting finish of 4 more threads\n",
      "INFO - 00:37:10: worker thread finished; awaiting finish of 3 more threads\n",
      "INFO - 00:37:10: worker thread finished; awaiting finish of 2 more threads\n",
      "INFO - 00:37:10: worker thread finished; awaiting finish of 1 more threads\n",
      "INFO - 00:37:10: worker thread finished; awaiting finish of 0 more threads\n",
      "INFO - 00:37:10: EPOCH - 8 : training on 3638618 raw words (1435489 effective words) took 10.0s, 143574 effective words/s\n",
      "INFO - 00:37:11: EPOCH 9 - PROGRESS: at 10.93% examples, 138640 words/s, in_qsize 0, out_qsize 0\n",
      "INFO - 00:37:13: EPOCH 9 - PROGRESS: at 21.99% examples, 145699 words/s, in_qsize 1, out_qsize 0\n",
      "INFO - 00:37:14: EPOCH 9 - PROGRESS: at 31.14% examples, 142010 words/s, in_qsize 1, out_qsize 0\n",
      "INFO - 00:37:15: EPOCH 9 - PROGRESS: at 40.69% examples, 138471 words/s, in_qsize 0, out_qsize 1\n",
      "INFO - 00:37:16: EPOCH 9 - PROGRESS: at 48.47% examples, 141272 words/s, in_qsize 0, out_qsize 0\n",
      "INFO - 00:37:17: EPOCH 9 - PROGRESS: at 57.82% examples, 144072 words/s, in_qsize 0, out_qsize 0\n",
      "INFO - 00:37:18: EPOCH 9 - PROGRESS: at 69.03% examples, 144037 words/s, in_qsize 0, out_qsize 1\n",
      "INFO - 00:37:19: EPOCH 9 - PROGRESS: at 79.27% examples, 141429 words/s, in_qsize 0, out_qsize 0\n",
      "INFO - 00:37:20: EPOCH 9 - PROGRESS: at 90.59% examples, 142392 words/s, in_qsize 0, out_qsize 0\n",
      "INFO - 00:37:21: worker thread finished; awaiting finish of 6 more threads\n",
      "INFO - 00:37:21: worker thread finished; awaiting finish of 5 more threads\n",
      "INFO - 00:37:21: worker thread finished; awaiting finish of 4 more threads\n",
      "INFO - 00:37:21: worker thread finished; awaiting finish of 3 more threads\n",
      "INFO - 00:37:21: EPOCH 9 - PROGRESS: at 99.71% examples, 139964 words/s, in_qsize 1, out_qsize 3\n",
      "INFO - 00:37:21: worker thread finished; awaiting finish of 2 more threads\n",
      "INFO - 00:37:21: worker thread finished; awaiting finish of 1 more threads\n",
      "INFO - 00:37:21: worker thread finished; awaiting finish of 0 more threads\n",
      "INFO - 00:37:21: EPOCH - 9 : training on 3638618 raw words (1435176 effective words) took 10.2s, 140157 effective words/s\n",
      "INFO - 00:37:22: EPOCH 10 - PROGRESS: at 10.19% examples, 123522 words/s, in_qsize 0, out_qsize 1\n",
      "INFO - 00:37:23: EPOCH 10 - PROGRESS: at 20.98% examples, 137444 words/s, in_qsize 0, out_qsize 0\n",
      "INFO - 00:37:24: EPOCH 10 - PROGRESS: at 30.92% examples, 140668 words/s, in_qsize 0, out_qsize 0\n",
      "INFO - 00:37:25: EPOCH 10 - PROGRESS: at 41.55% examples, 143084 words/s, in_qsize 0, out_qsize 0\n",
      "INFO - 00:37:26: EPOCH 10 - PROGRESS: at 49.96% examples, 146656 words/s, in_qsize 0, out_qsize 0\n",
      "INFO - 00:37:27: EPOCH 10 - PROGRESS: at 59.43% examples, 147378 words/s, in_qsize 0, out_qsize 0\n",
      "INFO - 00:37:28: EPOCH 10 - PROGRESS: at 71.19% examples, 148291 words/s, in_qsize 0, out_qsize 1\n",
      "INFO - 00:37:29: EPOCH 10 - PROGRESS: at 82.86% examples, 147300 words/s, in_qsize 0, out_qsize 0\n",
      "INFO - 00:37:30: EPOCH 10 - PROGRESS: at 91.10% examples, 144148 words/s, in_qsize 0, out_qsize 0\n",
      "INFO - 00:37:31: EPOCH 10 - PROGRESS: at 98.98% examples, 139647 words/s, in_qsize 0, out_qsize 0\n",
      "INFO - 00:37:31: worker thread finished; awaiting finish of 6 more threads\n",
      "INFO - 00:37:31: worker thread finished; awaiting finish of 5 more threads\n",
      "INFO - 00:37:31: worker thread finished; awaiting finish of 4 more threads\n",
      "INFO - 00:37:31: worker thread finished; awaiting finish of 3 more threads\n",
      "INFO - 00:37:31: worker thread finished; awaiting finish of 2 more threads\n",
      "INFO - 00:37:31: worker thread finished; awaiting finish of 1 more threads\n",
      "INFO - 00:37:31: worker thread finished; awaiting finish of 0 more threads\n",
      "INFO - 00:37:31: EPOCH - 10 : training on 3638618 raw words (1435153 effective words) took 10.3s, 139565 effective words/s\n",
      "INFO - 00:37:32: EPOCH 11 - PROGRESS: at 9.23% examples, 111690 words/s, in_qsize 0, out_qsize 0\n",
      "INFO - 00:37:33: EPOCH 11 - PROGRESS: at 19.31% examples, 123933 words/s, in_qsize 0, out_qsize 0\n",
      "INFO - 00:37:34: EPOCH 11 - PROGRESS: at 28.92% examples, 129673 words/s, in_qsize 0, out_qsize 0\n",
      "INFO - 00:37:35: EPOCH 11 - PROGRESS: at 40.04% examples, 133976 words/s, in_qsize 0, out_qsize 0\n",
      "INFO - 00:37:36: EPOCH 11 - PROGRESS: at 48.05% examples, 138266 words/s, in_qsize 0, out_qsize 0\n",
      "INFO - 00:37:37: EPOCH 11 - PROGRESS: at 55.92% examples, 139352 words/s, in_qsize 0, out_qsize 0\n"
     ]
    },
    {
     "name": "stderr",
     "output_type": "stream",
     "text": [
      "INFO - 00:37:38: EPOCH 11 - PROGRESS: at 66.39% examples, 135827 words/s, in_qsize 0, out_qsize 0\n",
      "INFO - 00:37:39: EPOCH 11 - PROGRESS: at 76.37% examples, 134838 words/s, in_qsize 0, out_qsize 0\n",
      "INFO - 00:37:40: EPOCH 11 - PROGRESS: at 86.78% examples, 134730 words/s, in_qsize 0, out_qsize 0\n",
      "INFO - 00:37:41: EPOCH 11 - PROGRESS: at 97.00% examples, 135125 words/s, in_qsize 0, out_qsize 0\n",
      "INFO - 00:37:42: worker thread finished; awaiting finish of 6 more threads\n",
      "INFO - 00:37:42: worker thread finished; awaiting finish of 5 more threads\n",
      "INFO - 00:37:42: worker thread finished; awaiting finish of 4 more threads\n",
      "INFO - 00:37:42: worker thread finished; awaiting finish of 3 more threads\n",
      "INFO - 00:37:42: worker thread finished; awaiting finish of 2 more threads\n",
      "INFO - 00:37:42: worker thread finished; awaiting finish of 1 more threads\n",
      "INFO - 00:37:42: worker thread finished; awaiting finish of 0 more threads\n",
      "INFO - 00:37:42: EPOCH - 11 : training on 3638618 raw words (1435436 effective words) took 10.7s, 134713 effective words/s\n",
      "INFO - 00:37:43: EPOCH 12 - PROGRESS: at 9.97% examples, 122628 words/s, in_qsize 0, out_qsize 0\n",
      "INFO - 00:37:44: EPOCH 12 - PROGRESS: at 21.24% examples, 141377 words/s, in_qsize 0, out_qsize 0\n",
      "INFO - 00:37:45: EPOCH 12 - PROGRESS: at 31.98% examples, 144032 words/s, in_qsize 0, out_qsize 1\n",
      "INFO - 00:37:46: EPOCH 12 - PROGRESS: at 43.05% examples, 149825 words/s, in_qsize 0, out_qsize 0\n",
      "INFO - 00:37:47: EPOCH 12 - PROGRESS: at 52.22% examples, 154790 words/s, in_qsize 0, out_qsize 0\n",
      "INFO - 00:37:48: EPOCH 12 - PROGRESS: at 64.28% examples, 156329 words/s, in_qsize 0, out_qsize 1\n",
      "INFO - 00:37:49: EPOCH 12 - PROGRESS: at 74.52% examples, 151962 words/s, in_qsize 0, out_qsize 0\n",
      "INFO - 00:37:50: EPOCH 12 - PROGRESS: at 83.77% examples, 148426 words/s, in_qsize 0, out_qsize 0\n",
      "INFO - 00:37:51: EPOCH 12 - PROGRESS: at 92.86% examples, 145772 words/s, in_qsize 0, out_qsize 0\n",
      "INFO - 00:37:52: worker thread finished; awaiting finish of 6 more threads\n",
      "INFO - 00:37:52: worker thread finished; awaiting finish of 5 more threads\n",
      "INFO - 00:37:52: worker thread finished; awaiting finish of 4 more threads\n",
      "INFO - 00:37:52: worker thread finished; awaiting finish of 3 more threads\n",
      "INFO - 00:37:52: worker thread finished; awaiting finish of 2 more threads\n",
      "INFO - 00:37:52: worker thread finished; awaiting finish of 1 more threads\n",
      "INFO - 00:37:52: worker thread finished; awaiting finish of 0 more threads\n",
      "INFO - 00:37:52: EPOCH - 12 : training on 3638618 raw words (1435850 effective words) took 9.9s, 145009 effective words/s\n",
      "INFO - 00:37:53: EPOCH 13 - PROGRESS: at 10.93% examples, 141362 words/s, in_qsize 0, out_qsize 1\n",
      "INFO - 00:37:54: EPOCH 13 - PROGRESS: at 21.53% examples, 144605 words/s, in_qsize 0, out_qsize 0\n",
      "INFO - 00:37:55: EPOCH 13 - PROGRESS: at 31.98% examples, 145171 words/s, in_qsize 0, out_qsize 0\n",
      "INFO - 00:37:56: EPOCH 13 - PROGRESS: at 41.76% examples, 144029 words/s, in_qsize 0, out_qsize 2\n",
      "INFO - 00:37:57: EPOCH 13 - PROGRESS: at 49.71% examples, 146500 words/s, in_qsize 0, out_qsize 0\n",
      "INFO - 00:37:58: EPOCH 13 - PROGRESS: at 59.43% examples, 147701 words/s, in_qsize 0, out_qsize 0\n",
      "INFO - 00:37:59: EPOCH 13 - PROGRESS: at 70.97% examples, 148425 words/s, in_qsize 0, out_qsize 0\n",
      "INFO - 00:38:00: EPOCH 13 - PROGRESS: at 82.86% examples, 147565 words/s, in_qsize 0, out_qsize 0\n",
      "INFO - 00:38:01: EPOCH 13 - PROGRESS: at 94.37% examples, 148605 words/s, in_qsize 0, out_qsize 1\n",
      "INFO - 00:38:01: worker thread finished; awaiting finish of 6 more threads\n",
      "INFO - 00:38:01: worker thread finished; awaiting finish of 5 more threads\n",
      "INFO - 00:38:01: worker thread finished; awaiting finish of 4 more threads\n",
      "INFO - 00:38:01: worker thread finished; awaiting finish of 3 more threads\n",
      "INFO - 00:38:01: worker thread finished; awaiting finish of 2 more threads\n",
      "INFO - 00:38:01: worker thread finished; awaiting finish of 1 more threads\n",
      "INFO - 00:38:01: worker thread finished; awaiting finish of 0 more threads\n",
      "INFO - 00:38:01: EPOCH - 13 : training on 3638618 raw words (1435662 effective words) took 9.7s, 148199 effective words/s\n",
      "INFO - 00:38:02: EPOCH 14 - PROGRESS: at 11.34% examples, 141590 words/s, in_qsize 0, out_qsize 0\n",
      "INFO - 00:38:03: EPOCH 14 - PROGRESS: at 22.22% examples, 148102 words/s, in_qsize 0, out_qsize 0\n",
      "INFO - 00:38:04: EPOCH 14 - PROGRESS: at 32.79% examples, 148284 words/s, in_qsize 1, out_qsize 0\n",
      "INFO - 00:38:05: EPOCH 14 - PROGRESS: at 41.76% examples, 143479 words/s, in_qsize 0, out_qsize 1\n",
      "INFO - 00:38:06: EPOCH 14 - PROGRESS: at 50.40% examples, 148119 words/s, in_qsize 0, out_qsize 0\n",
      "INFO - 00:38:07: EPOCH 14 - PROGRESS: at 60.47% examples, 149303 words/s, in_qsize 0, out_qsize 0\n",
      "INFO - 00:38:08: EPOCH 14 - PROGRESS: at 72.42% examples, 150182 words/s, in_qsize 0, out_qsize 0\n",
      "INFO - 00:38:09: EPOCH 14 - PROGRESS: at 83.54% examples, 148242 words/s, in_qsize 0, out_qsize 0\n",
      "INFO - 00:38:10: EPOCH 14 - PROGRESS: at 94.90% examples, 148162 words/s, in_qsize 1, out_qsize 0\n",
      "INFO - 00:38:11: worker thread finished; awaiting finish of 6 more threads\n",
      "INFO - 00:38:11: worker thread finished; awaiting finish of 5 more threads\n",
      "INFO - 00:38:11: worker thread finished; awaiting finish of 4 more threads\n",
      "INFO - 00:38:11: worker thread finished; awaiting finish of 3 more threads\n",
      "INFO - 00:38:11: worker thread finished; awaiting finish of 2 more threads\n",
      "INFO - 00:38:11: worker thread finished; awaiting finish of 1 more threads\n",
      "INFO - 00:38:11: worker thread finished; awaiting finish of 0 more threads\n",
      "INFO - 00:38:11: EPOCH - 14 : training on 3638618 raw words (1435420 effective words) took 9.7s, 147392 effective words/s\n",
      "INFO - 00:38:12: EPOCH 15 - PROGRESS: at 10.93% examples, 141201 words/s, in_qsize 0, out_qsize 0\n",
      "INFO - 00:38:13: EPOCH 15 - PROGRESS: at 21.76% examples, 146322 words/s, in_qsize 0, out_qsize 1\n",
      "INFO - 00:38:14: EPOCH 15 - PROGRESS: at 32.19% examples, 146894 words/s, in_qsize 0, out_qsize 0\n",
      "INFO - 00:38:15: EPOCH 15 - PROGRESS: at 42.62% examples, 149680 words/s, in_qsize 0, out_qsize 0\n",
      "INFO - 00:38:16: EPOCH 15 - PROGRESS: at 51.09% examples, 152882 words/s, in_qsize 0, out_qsize 0\n",
      "INFO - 00:38:17: EPOCH 15 - PROGRESS: at 61.68% examples, 152228 words/s, in_qsize 0, out_qsize 0\n",
      "INFO - 00:38:18: EPOCH 15 - PROGRESS: at 73.40% examples, 153287 words/s, in_qsize 0, out_qsize 1\n",
      "INFO - 00:38:19: EPOCH 15 - PROGRESS: at 84.83% examples, 151263 words/s, in_qsize 0, out_qsize 0\n",
      "INFO - 00:38:20: EPOCH 15 - PROGRESS: at 94.16% examples, 148202 words/s, in_qsize 0, out_qsize 1\n",
      "INFO - 00:38:21: worker thread finished; awaiting finish of 6 more threads\n",
      "INFO - 00:38:21: worker thread finished; awaiting finish of 5 more threads\n",
      "INFO - 00:38:21: worker thread finished; awaiting finish of 4 more threads\n",
      "INFO - 00:38:21: worker thread finished; awaiting finish of 3 more threads\n",
      "INFO - 00:38:21: worker thread finished; awaiting finish of 2 more threads\n",
      "INFO - 00:38:21: worker thread finished; awaiting finish of 1 more threads\n",
      "INFO - 00:38:21: worker thread finished; awaiting finish of 0 more threads\n",
      "INFO - 00:38:21: EPOCH - 15 : training on 3638618 raw words (1435363 effective words) took 9.8s, 146105 effective words/s\n",
      "INFO - 00:38:22: EPOCH 16 - PROGRESS: at 9.48% examples, 114518 words/s, in_qsize 0, out_qsize 0\n",
      "INFO - 00:38:23: EPOCH 16 - PROGRESS: at 20.35% examples, 132458 words/s, in_qsize 0, out_qsize 0\n",
      "INFO - 00:38:24: EPOCH 16 - PROGRESS: at 30.25% examples, 136919 words/s, in_qsize 0, out_qsize 0\n",
      "INFO - 00:38:25: EPOCH 16 - PROGRESS: at 41.34% examples, 141100 words/s, in_qsize 0, out_qsize 1\n",
      "INFO - 00:38:26: EPOCH 16 - PROGRESS: at 49.96% examples, 146200 words/s, in_qsize 0, out_qsize 0\n",
      "INFO - 00:38:27: EPOCH 16 - PROGRESS: at 59.67% examples, 147627 words/s, in_qsize 0, out_qsize 0\n",
      "INFO - 00:38:28: EPOCH 16 - PROGRESS: at 70.08% examples, 145514 words/s, in_qsize 0, out_qsize 0\n",
      "INFO - 00:38:29: EPOCH 16 - PROGRESS: at 82.01% examples, 144989 words/s, in_qsize 0, out_qsize 0\n",
      "INFO - 00:38:30: EPOCH 16 - PROGRESS: at 92.12% examples, 145745 words/s, in_qsize 0, out_qsize 0\n",
      "INFO - 00:38:31: worker thread finished; awaiting finish of 6 more threads\n",
      "INFO - 00:38:31: worker thread finished; awaiting finish of 5 more threads\n",
      "INFO - 00:38:31: worker thread finished; awaiting finish of 4 more threads\n"
     ]
    },
    {
     "name": "stderr",
     "output_type": "stream",
     "text": [
      "INFO - 00:38:31: worker thread finished; awaiting finish of 3 more threads\n",
      "INFO - 00:38:31: worker thread finished; awaiting finish of 2 more threads\n",
      "INFO - 00:38:31: worker thread finished; awaiting finish of 1 more threads\n",
      "INFO - 00:38:31: worker thread finished; awaiting finish of 0 more threads\n",
      "INFO - 00:38:31: EPOCH - 16 : training on 3638618 raw words (1434797 effective words) took 9.9s, 145316 effective words/s\n",
      "INFO - 00:38:32: EPOCH 17 - PROGRESS: at 10.93% examples, 140999 words/s, in_qsize 0, out_qsize 0\n",
      "INFO - 00:38:33: EPOCH 17 - PROGRESS: at 22.22% examples, 146789 words/s, in_qsize 1, out_qsize 0\n",
      "INFO - 00:38:34: EPOCH 17 - PROGRESS: at 33.37% examples, 147939 words/s, in_qsize 0, out_qsize 0\n",
      "INFO - 00:38:35: EPOCH 17 - PROGRESS: at 43.05% examples, 150100 words/s, in_qsize 0, out_qsize 0\n",
      "INFO - 00:38:36: EPOCH 17 - PROGRESS: at 51.55% examples, 152877 words/s, in_qsize 0, out_qsize 0\n",
      "INFO - 00:38:37: EPOCH 17 - PROGRESS: at 62.41% examples, 153095 words/s, in_qsize 0, out_qsize 0\n",
      "INFO - 00:38:38: EPOCH 17 - PROGRESS: at 74.52% examples, 152269 words/s, in_qsize 0, out_qsize 1\n",
      "INFO - 00:38:39: EPOCH 17 - PROGRESS: at 85.13% examples, 151381 words/s, in_qsize 0, out_qsize 0\n",
      "INFO - 00:38:40: EPOCH 17 - PROGRESS: at 97.00% examples, 151191 words/s, in_qsize 0, out_qsize 0\n",
      "INFO - 00:38:40: worker thread finished; awaiting finish of 6 more threads\n",
      "INFO - 00:38:40: worker thread finished; awaiting finish of 5 more threads\n",
      "INFO - 00:38:40: worker thread finished; awaiting finish of 4 more threads\n",
      "INFO - 00:38:40: worker thread finished; awaiting finish of 3 more threads\n",
      "INFO - 00:38:40: worker thread finished; awaiting finish of 2 more threads\n",
      "INFO - 00:38:40: worker thread finished; awaiting finish of 1 more threads\n",
      "INFO - 00:38:40: worker thread finished; awaiting finish of 0 more threads\n",
      "INFO - 00:38:40: EPOCH - 17 : training on 3638618 raw words (1435153 effective words) took 9.5s, 151116 effective words/s\n",
      "INFO - 00:38:41: EPOCH 18 - PROGRESS: at 10.93% examples, 137716 words/s, in_qsize 0, out_qsize 0\n",
      "INFO - 00:38:42: EPOCH 18 - PROGRESS: at 21.99% examples, 145291 words/s, in_qsize 0, out_qsize 0\n",
      "INFO - 00:38:43: EPOCH 18 - PROGRESS: at 32.19% examples, 145385 words/s, in_qsize 0, out_qsize 0\n",
      "INFO - 00:38:44: EPOCH 18 - PROGRESS: at 42.41% examples, 147165 words/s, in_qsize 0, out_qsize 0\n",
      "INFO - 00:38:45: EPOCH 18 - PROGRESS: at 50.19% examples, 148250 words/s, in_qsize 1, out_qsize 0\n",
      "INFO - 00:38:46: EPOCH 18 - PROGRESS: at 60.05% examples, 148961 words/s, in_qsize 0, out_qsize 0\n",
      "INFO - 00:38:47: EPOCH 18 - PROGRESS: at 71.41% examples, 149444 words/s, in_qsize 0, out_qsize 0\n",
      "INFO - 00:38:48: EPOCH 18 - PROGRESS: at 83.54% examples, 148710 words/s, in_qsize 0, out_qsize 0\n",
      "INFO - 00:38:49: EPOCH 18 - PROGRESS: at 93.41% examples, 147451 words/s, in_qsize 0, out_qsize 1\n",
      "INFO - 00:38:50: worker thread finished; awaiting finish of 6 more threads\n",
      "INFO - 00:38:50: worker thread finished; awaiting finish of 5 more threads\n",
      "INFO - 00:38:50: worker thread finished; awaiting finish of 4 more threads\n",
      "INFO - 00:38:50: worker thread finished; awaiting finish of 3 more threads\n",
      "INFO - 00:38:50: worker thread finished; awaiting finish of 2 more threads\n",
      "INFO - 00:38:50: worker thread finished; awaiting finish of 1 more threads\n",
      "INFO - 00:38:50: worker thread finished; awaiting finish of 0 more threads\n",
      "INFO - 00:38:50: EPOCH - 18 : training on 3638618 raw words (1435309 effective words) took 9.9s, 145685 effective words/s\n",
      "INFO - 00:38:51: EPOCH 19 - PROGRESS: at 9.97% examples, 123978 words/s, in_qsize 0, out_qsize 0\n",
      "INFO - 00:38:52: EPOCH 19 - PROGRESS: at 20.98% examples, 137978 words/s, in_qsize 0, out_qsize 0\n",
      "INFO - 00:38:53: EPOCH 19 - PROGRESS: at 31.14% examples, 142304 words/s, in_qsize 0, out_qsize 0\n",
      "INFO - 00:38:54: EPOCH 19 - PROGRESS: at 41.12% examples, 141188 words/s, in_qsize 0, out_qsize 0\n",
      "INFO - 00:38:55: EPOCH 19 - PROGRESS: at 49.71% examples, 146687 words/s, in_qsize 0, out_qsize 0\n",
      "INFO - 00:38:56: EPOCH 19 - PROGRESS: at 59.43% examples, 147651 words/s, in_qsize 0, out_qsize 0\n",
      "INFO - 00:38:57: EPOCH 19 - PROGRESS: at 71.19% examples, 148998 words/s, in_qsize 0, out_qsize 0\n",
      "INFO - 00:38:58: EPOCH 19 - PROGRESS: at 82.86% examples, 147965 words/s, in_qsize 0, out_qsize 0\n",
      "INFO - 00:38:59: EPOCH 19 - PROGRESS: at 94.44% examples, 149263 words/s, in_qsize 0, out_qsize 0\n",
      "INFO - 00:39:00: worker thread finished; awaiting finish of 6 more threads\n",
      "INFO - 00:39:00: worker thread finished; awaiting finish of 5 more threads\n",
      "INFO - 00:39:00: worker thread finished; awaiting finish of 4 more threads\n",
      "INFO - 00:39:00: worker thread finished; awaiting finish of 3 more threads\n",
      "INFO - 00:39:00: worker thread finished; awaiting finish of 2 more threads\n",
      "INFO - 00:39:00: worker thread finished; awaiting finish of 1 more threads\n",
      "INFO - 00:39:00: worker thread finished; awaiting finish of 0 more threads\n",
      "INFO - 00:39:00: EPOCH - 19 : training on 3638618 raw words (1435755 effective words) took 9.7s, 148370 effective words/s\n",
      "INFO - 00:39:01: EPOCH 20 - PROGRESS: at 10.93% examples, 139849 words/s, in_qsize 0, out_qsize 0\n",
      "INFO - 00:39:02: EPOCH 20 - PROGRESS: at 21.99% examples, 146355 words/s, in_qsize 0, out_qsize 0\n",
      "INFO - 00:39:03: EPOCH 20 - PROGRESS: at 32.58% examples, 146133 words/s, in_qsize 0, out_qsize 1\n",
      "INFO - 00:39:04: EPOCH 20 - PROGRESS: at 42.84% examples, 149704 words/s, in_qsize 0, out_qsize 0\n",
      "INFO - 00:39:05: EPOCH 20 - PROGRESS: at 51.09% examples, 152219 words/s, in_qsize 0, out_qsize 1\n",
      "INFO - 00:39:06: EPOCH 20 - PROGRESS: at 61.30% examples, 151546 words/s, in_qsize 0, out_qsize 1\n",
      "INFO - 00:39:07: EPOCH 20 - PROGRESS: at 73.40% examples, 153210 words/s, in_qsize 0, out_qsize 0\n",
      "INFO - 00:39:08: EPOCH 20 - PROGRESS: at 84.83% examples, 151861 words/s, in_qsize 0, out_qsize 0\n",
      "INFO - 00:39:09: EPOCH 20 - PROGRESS: at 96.56% examples, 151517 words/s, in_qsize 0, out_qsize 0\n",
      "INFO - 00:39:09: worker thread finished; awaiting finish of 6 more threads\n",
      "INFO - 00:39:09: worker thread finished; awaiting finish of 5 more threads\n",
      "INFO - 00:39:09: worker thread finished; awaiting finish of 4 more threads\n",
      "INFO - 00:39:09: worker thread finished; awaiting finish of 3 more threads\n",
      "INFO - 00:39:09: worker thread finished; awaiting finish of 2 more threads\n",
      "INFO - 00:39:09: worker thread finished; awaiting finish of 1 more threads\n",
      "INFO - 00:39:09: worker thread finished; awaiting finish of 0 more threads\n",
      "INFO - 00:39:09: EPOCH - 20 : training on 3638618 raw words (1435669 effective words) took 9.5s, 151067 effective words/s\n",
      "INFO - 00:39:10: EPOCH 21 - PROGRESS: at 10.19% examples, 118130 words/s, in_qsize 0, out_qsize 0\n",
      "INFO - 00:39:11: EPOCH 21 - PROGRESS: at 20.98% examples, 132674 words/s, in_qsize 0, out_qsize 0\n",
      "INFO - 00:39:12: EPOCH 21 - PROGRESS: at 31.75% examples, 137803 words/s, in_qsize 0, out_qsize 0\n",
      "INFO - 00:39:13: EPOCH 21 - PROGRESS: at 42.41% examples, 142988 words/s, in_qsize 0, out_qsize 0\n",
      "INFO - 00:39:14: EPOCH 21 - PROGRESS: at 50.86% examples, 147454 words/s, in_qsize 0, out_qsize 0\n",
      "INFO - 00:39:16: EPOCH 21 - PROGRESS: at 61.30% examples, 148200 words/s, in_qsize 0, out_qsize 0\n",
      "INFO - 00:39:17: EPOCH 21 - PROGRESS: at 72.79% examples, 148997 words/s, in_qsize 0, out_qsize 0\n",
      "INFO - 00:39:18: EPOCH 21 - PROGRESS: at 84.37% examples, 148255 words/s, in_qsize 0, out_qsize 0\n",
      "INFO - 00:39:19: EPOCH 21 - PROGRESS: at 96.11% examples, 148781 words/s, in_qsize 1, out_qsize 0\n",
      "INFO - 00:39:19: worker thread finished; awaiting finish of 6 more threads\n",
      "INFO - 00:39:19: worker thread finished; awaiting finish of 5 more threads\n",
      "INFO - 00:39:19: worker thread finished; awaiting finish of 4 more threads\n",
      "INFO - 00:39:19: worker thread finished; awaiting finish of 3 more threads\n",
      "INFO - 00:39:19: worker thread finished; awaiting finish of 2 more threads\n",
      "INFO - 00:39:19: worker thread finished; awaiting finish of 1 more threads\n",
      "INFO - 00:39:19: worker thread finished; awaiting finish of 0 more threads\n",
      "INFO - 00:39:19: EPOCH - 21 : training on 3638618 raw words (1436037 effective words) took 9.7s, 148333 effective words/s\n",
      "INFO - 00:39:20: EPOCH 22 - PROGRESS: at 10.19% examples, 125969 words/s, in_qsize 0, out_qsize 0\n",
      "INFO - 00:39:21: EPOCH 22 - PROGRESS: at 20.35% examples, 131043 words/s, in_qsize 0, out_qsize 0\n"
     ]
    },
    {
     "name": "stderr",
     "output_type": "stream",
     "text": [
      "INFO - 00:39:22: EPOCH 22 - PROGRESS: at 30.47% examples, 136674 words/s, in_qsize 0, out_qsize 0\n",
      "INFO - 00:39:23: EPOCH 22 - PROGRESS: at 41.34% examples, 140867 words/s, in_qsize 0, out_qsize 0\n",
      "INFO - 00:39:24: EPOCH 22 - PROGRESS: at 49.50% examples, 144886 words/s, in_qsize 0, out_qsize 1\n",
      "INFO - 00:39:25: EPOCH 22 - PROGRESS: at 59.09% examples, 146295 words/s, in_qsize 0, out_qsize 0\n",
      "INFO - 00:39:26: EPOCH 22 - PROGRESS: at 70.97% examples, 147447 words/s, in_qsize 0, out_qsize 0\n",
      "INFO - 00:39:27: EPOCH 22 - PROGRESS: at 82.86% examples, 146643 words/s, in_qsize 0, out_qsize 0\n",
      "INFO - 00:39:28: EPOCH 22 - PROGRESS: at 94.90% examples, 148011 words/s, in_qsize 1, out_qsize 0\n",
      "INFO - 00:39:29: worker thread finished; awaiting finish of 6 more threads\n",
      "INFO - 00:39:29: worker thread finished; awaiting finish of 5 more threads\n",
      "INFO - 00:39:29: worker thread finished; awaiting finish of 4 more threads\n",
      "INFO - 00:39:29: worker thread finished; awaiting finish of 3 more threads\n",
      "INFO - 00:39:29: worker thread finished; awaiting finish of 2 more threads\n",
      "INFO - 00:39:29: worker thread finished; awaiting finish of 1 more threads\n",
      "INFO - 00:39:29: worker thread finished; awaiting finish of 0 more threads\n",
      "INFO - 00:39:29: EPOCH - 22 : training on 3638618 raw words (1435454 effective words) took 9.7s, 147723 effective words/s\n",
      "INFO - 00:39:30: EPOCH 23 - PROGRESS: at 10.93% examples, 141428 words/s, in_qsize 0, out_qsize 0\n",
      "INFO - 00:39:31: EPOCH 23 - PROGRESS: at 22.22% examples, 149753 words/s, in_qsize 0, out_qsize 0\n",
      "INFO - 00:39:32: EPOCH 23 - PROGRESS: at 32.79% examples, 149578 words/s, in_qsize 0, out_qsize 0\n",
      "INFO - 00:39:33: EPOCH 23 - PROGRESS: at 41.34% examples, 143534 words/s, in_qsize 0, out_qsize 0\n",
      "INFO - 00:39:34: EPOCH 23 - PROGRESS: at 49.50% examples, 147128 words/s, in_qsize 0, out_qsize 0\n",
      "INFO - 00:39:35: EPOCH 23 - PROGRESS: at 58.63% examples, 147278 words/s, in_qsize 0, out_qsize 1\n",
      "INFO - 00:39:36: EPOCH 23 - PROGRESS: at 70.75% examples, 148890 words/s, in_qsize 0, out_qsize 0\n",
      "INFO - 00:39:37: EPOCH 23 - PROGRESS: at 82.65% examples, 148170 words/s, in_qsize 0, out_qsize 0\n",
      "INFO - 00:39:38: EPOCH 23 - PROGRESS: at 93.63% examples, 149358 words/s, in_qsize 0, out_qsize 0\n",
      "INFO - 00:39:38: worker thread finished; awaiting finish of 6 more threads\n",
      "INFO - 00:39:38: worker thread finished; awaiting finish of 5 more threads\n",
      "INFO - 00:39:38: worker thread finished; awaiting finish of 4 more threads\n",
      "INFO - 00:39:38: worker thread finished; awaiting finish of 3 more threads\n",
      "INFO - 00:39:38: worker thread finished; awaiting finish of 2 more threads\n",
      "INFO - 00:39:38: worker thread finished; awaiting finish of 1 more threads\n",
      "INFO - 00:39:38: worker thread finished; awaiting finish of 0 more threads\n",
      "INFO - 00:39:38: EPOCH - 23 : training on 3638618 raw words (1436147 effective words) took 9.7s, 148638 effective words/s\n",
      "INFO - 00:39:39: EPOCH 24 - PROGRESS: at 10.93% examples, 140515 words/s, in_qsize 0, out_qsize 0\n",
      "INFO - 00:39:40: EPOCH 24 - PROGRESS: at 21.99% examples, 147726 words/s, in_qsize 0, out_qsize 0\n",
      "INFO - 00:39:41: EPOCH 24 - PROGRESS: at 32.40% examples, 147910 words/s, in_qsize 0, out_qsize 0\n",
      "INFO - 00:39:42: EPOCH 24 - PROGRESS: at 42.84% examples, 150024 words/s, in_qsize 0, out_qsize 0\n",
      "INFO - 00:39:43: EPOCH 24 - PROGRESS: at 51.32% examples, 152302 words/s, in_qsize 0, out_qsize 0\n",
      "INFO - 00:39:44: EPOCH 24 - PROGRESS: at 62.06% examples, 152552 words/s, in_qsize 0, out_qsize 0\n",
      "INFO - 00:39:46: EPOCH 24 - PROGRESS: at 73.72% examples, 152387 words/s, in_qsize 0, out_qsize 0\n",
      "INFO - 00:39:47: EPOCH 24 - PROGRESS: at 84.00% examples, 149974 words/s, in_qsize 0, out_qsize 0\n",
      "INFO - 00:39:48: EPOCH 24 - PROGRESS: at 96.11% examples, 150086 words/s, in_qsize 0, out_qsize 0\n",
      "INFO - 00:39:48: worker thread finished; awaiting finish of 6 more threads\n",
      "INFO - 00:39:48: worker thread finished; awaiting finish of 5 more threads\n",
      "INFO - 00:39:48: worker thread finished; awaiting finish of 4 more threads\n",
      "INFO - 00:39:48: worker thread finished; awaiting finish of 3 more threads\n",
      "INFO - 00:39:48: worker thread finished; awaiting finish of 2 more threads\n",
      "INFO - 00:39:48: worker thread finished; awaiting finish of 1 more threads\n",
      "INFO - 00:39:48: worker thread finished; awaiting finish of 0 more threads\n",
      "INFO - 00:39:48: EPOCH - 24 : training on 3638618 raw words (1434589 effective words) took 9.6s, 149867 effective words/s\n",
      "INFO - 00:39:49: EPOCH 25 - PROGRESS: at 11.34% examples, 143512 words/s, in_qsize 0, out_qsize 0\n",
      "INFO - 00:39:50: EPOCH 25 - PROGRESS: at 21.53% examples, 143913 words/s, in_qsize 0, out_qsize 0\n",
      "INFO - 00:39:51: EPOCH 25 - PROGRESS: at 30.69% examples, 140794 words/s, in_qsize 0, out_qsize 0\n",
      "INFO - 00:39:52: EPOCH 25 - PROGRESS: at 41.34% examples, 143387 words/s, in_qsize 0, out_qsize 0\n",
      "INFO - 00:39:53: EPOCH 25 - PROGRESS: at 49.71% examples, 147795 words/s, in_qsize 0, out_qsize 0\n",
      "INFO - 00:39:54: EPOCH 25 - PROGRESS: at 59.43% examples, 148884 words/s, in_qsize 0, out_qsize 0\n",
      "INFO - 00:39:55: EPOCH 25 - PROGRESS: at 70.97% examples, 149631 words/s, in_qsize 0, out_qsize 0\n",
      "INFO - 00:39:56: EPOCH 25 - PROGRESS: at 81.26% examples, 145425 words/s, in_qsize 0, out_qsize 1\n",
      "INFO - 00:39:57: EPOCH 25 - PROGRESS: at 92.12% examples, 147134 words/s, in_qsize 0, out_qsize 0\n",
      "INFO - 00:39:58: worker thread finished; awaiting finish of 6 more threads\n",
      "INFO - 00:39:58: worker thread finished; awaiting finish of 5 more threads\n",
      "INFO - 00:39:58: worker thread finished; awaiting finish of 4 more threads\n",
      "INFO - 00:39:58: worker thread finished; awaiting finish of 3 more threads\n",
      "INFO - 00:39:58: worker thread finished; awaiting finish of 2 more threads\n",
      "INFO - 00:39:58: worker thread finished; awaiting finish of 1 more threads\n",
      "INFO - 00:39:58: worker thread finished; awaiting finish of 0 more threads\n",
      "INFO - 00:39:58: EPOCH - 25 : training on 3638618 raw words (1435910 effective words) took 9.8s, 146561 effective words/s\n",
      "INFO - 00:39:59: EPOCH 26 - PROGRESS: at 11.34% examples, 142831 words/s, in_qsize 0, out_qsize 0\n",
      "INFO - 00:40:00: EPOCH 26 - PROGRESS: at 21.76% examples, 145875 words/s, in_qsize 0, out_qsize 0\n",
      "INFO - 00:40:01: EPOCH 26 - PROGRESS: at 32.19% examples, 146690 words/s, in_qsize 0, out_qsize 0\n",
      "INFO - 00:40:02: EPOCH 26 - PROGRESS: at 42.62% examples, 149367 words/s, in_qsize 0, out_qsize 0\n",
      "INFO - 00:40:03: EPOCH 26 - PROGRESS: at 51.32% examples, 152565 words/s, in_qsize 0, out_qsize 0\n",
      "INFO - 00:40:04: EPOCH 26 - PROGRESS: at 62.06% examples, 153038 words/s, in_qsize 0, out_qsize 0\n",
      "INFO - 00:40:05: EPOCH 26 - PROGRESS: at 73.40% examples, 153021 words/s, in_qsize 0, out_qsize 1\n",
      "INFO - 00:40:06: EPOCH 26 - PROGRESS: at 84.61% examples, 151378 words/s, in_qsize 0, out_qsize 0\n",
      "INFO - 00:40:07: EPOCH 26 - PROGRESS: at 95.65% examples, 150024 words/s, in_qsize 0, out_qsize 0\n",
      "INFO - 00:40:07: worker thread finished; awaiting finish of 6 more threads\n",
      "INFO - 00:40:07: worker thread finished; awaiting finish of 5 more threads\n",
      "INFO - 00:40:07: worker thread finished; awaiting finish of 4 more threads\n",
      "INFO - 00:40:07: worker thread finished; awaiting finish of 3 more threads\n",
      "INFO - 00:40:07: worker thread finished; awaiting finish of 2 more threads\n",
      "INFO - 00:40:07: worker thread finished; awaiting finish of 1 more threads\n",
      "INFO - 00:40:07: worker thread finished; awaiting finish of 0 more threads\n",
      "INFO - 00:40:07: EPOCH - 26 : training on 3638618 raw words (1436129 effective words) took 9.6s, 149219 effective words/s\n",
      "INFO - 00:40:08: EPOCH 27 - PROGRESS: at 10.67% examples, 135602 words/s, in_qsize 0, out_qsize 0\n",
      "INFO - 00:40:09: EPOCH 27 - PROGRESS: at 21.24% examples, 140510 words/s, in_qsize 0, out_qsize 0\n",
      "INFO - 00:40:10: EPOCH 27 - PROGRESS: at 30.92% examples, 140991 words/s, in_qsize 0, out_qsize 1\n",
      "INFO - 00:40:11: EPOCH 27 - PROGRESS: at 41.76% examples, 144066 words/s, in_qsize 0, out_qsize 0\n",
      "INFO - 00:40:13: EPOCH 27 - PROGRESS: at 50.19% examples, 147838 words/s, in_qsize 0, out_qsize 0\n",
      "INFO - 00:40:14: EPOCH 27 - PROGRESS: at 60.47% examples, 149297 words/s, in_qsize 0, out_qsize 1\n",
      "INFO - 00:40:15: EPOCH 27 - PROGRESS: at 72.42% examples, 150193 words/s, in_qsize 0, out_qsize 0\n",
      "INFO - 00:40:16: EPOCH 27 - PROGRESS: at 82.01% examples, 144307 words/s, in_qsize 6, out_qsize 0\n"
     ]
    },
    {
     "name": "stderr",
     "output_type": "stream",
     "text": [
      "INFO - 00:40:17: EPOCH 27 - PROGRESS: at 89.13% examples, 139536 words/s, in_qsize 11, out_qsize 2\n",
      "INFO - 00:40:17: worker thread finished; awaiting finish of 6 more threads\n",
      "INFO - 00:40:17: worker thread finished; awaiting finish of 5 more threads\n",
      "INFO - 00:40:17: worker thread finished; awaiting finish of 4 more threads\n",
      "INFO - 00:40:17: worker thread finished; awaiting finish of 3 more threads\n",
      "INFO - 00:40:17: worker thread finished; awaiting finish of 2 more threads\n",
      "INFO - 00:40:17: worker thread finished; awaiting finish of 1 more threads\n",
      "INFO - 00:40:17: worker thread finished; awaiting finish of 0 more threads\n",
      "INFO - 00:40:17: EPOCH - 27 : training on 3638618 raw words (1435605 effective words) took 9.8s, 146072 effective words/s\n",
      "INFO - 00:40:18: EPOCH 28 - PROGRESS: at 10.93% examples, 140468 words/s, in_qsize 0, out_qsize 0\n",
      "INFO - 00:40:19: EPOCH 28 - PROGRESS: at 22.22% examples, 147744 words/s, in_qsize 0, out_qsize 0\n",
      "INFO - 00:40:20: EPOCH 28 - PROGRESS: at 31.98% examples, 142919 words/s, in_qsize 0, out_qsize 0\n",
      "INFO - 00:40:21: EPOCH 28 - PROGRESS: at 41.76% examples, 143061 words/s, in_qsize 0, out_qsize 0\n",
      "INFO - 00:40:22: EPOCH 28 - PROGRESS: at 50.40% examples, 147515 words/s, in_qsize 0, out_qsize 0\n",
      "INFO - 00:40:23: EPOCH 28 - PROGRESS: at 60.47% examples, 148638 words/s, in_qsize 0, out_qsize 0\n",
      "INFO - 00:40:24: EPOCH 28 - PROGRESS: at 72.05% examples, 149599 words/s, in_qsize 0, out_qsize 0\n",
      "INFO - 00:40:25: EPOCH 28 - PROGRESS: at 83.77% examples, 148834 words/s, in_qsize 0, out_qsize 0\n",
      "INFO - 00:40:26: EPOCH 28 - PROGRESS: at 95.41% examples, 149266 words/s, in_qsize 0, out_qsize 1\n",
      "INFO - 00:40:27: worker thread finished; awaiting finish of 6 more threads\n",
      "INFO - 00:40:27: worker thread finished; awaiting finish of 5 more threads\n",
      "INFO - 00:40:27: worker thread finished; awaiting finish of 4 more threads\n",
      "INFO - 00:40:27: worker thread finished; awaiting finish of 3 more threads\n",
      "INFO - 00:40:27: worker thread finished; awaiting finish of 2 more threads\n",
      "INFO - 00:40:27: worker thread finished; awaiting finish of 1 more threads\n",
      "INFO - 00:40:27: worker thread finished; awaiting finish of 0 more threads\n",
      "INFO - 00:40:27: EPOCH - 28 : training on 3638618 raw words (1435829 effective words) took 9.6s, 148795 effective words/s\n",
      "INFO - 00:40:28: EPOCH 29 - PROGRESS: at 10.93% examples, 141544 words/s, in_qsize 0, out_qsize 0\n",
      "INFO - 00:40:29: EPOCH 29 - PROGRESS: at 21.76% examples, 145836 words/s, in_qsize 0, out_qsize 1\n",
      "INFO - 00:40:30: EPOCH 29 - PROGRESS: at 31.98% examples, 145019 words/s, in_qsize 0, out_qsize 0\n",
      "INFO - 00:40:31: EPOCH 29 - PROGRESS: at 41.33% examples, 141607 words/s, in_qsize 3, out_qsize 0\n",
      "INFO - 00:40:32: EPOCH 29 - PROGRESS: at 48.25% examples, 140035 words/s, in_qsize 12, out_qsize 0\n",
      "INFO - 00:40:33: EPOCH 29 - PROGRESS: at 57.19% examples, 139930 words/s, in_qsize 9, out_qsize 1\n",
      "INFO - 00:40:34: EPOCH 29 - PROGRESS: at 68.55% examples, 140300 words/s, in_qsize 11, out_qsize 0\n",
      "INFO - 00:40:35: EPOCH 29 - PROGRESS: at 78.30% examples, 138353 words/s, in_qsize 13, out_qsize 0\n",
      "INFO - 00:40:36: EPOCH 29 - PROGRESS: at 89.99% examples, 139912 words/s, in_qsize 12, out_qsize 1\n",
      "INFO - 00:40:37: worker thread finished; awaiting finish of 6 more threads\n",
      "INFO - 00:40:37: worker thread finished; awaiting finish of 5 more threads\n",
      "INFO - 00:40:37: worker thread finished; awaiting finish of 4 more threads\n",
      "INFO - 00:40:37: worker thread finished; awaiting finish of 3 more threads\n",
      "INFO - 00:40:37: worker thread finished; awaiting finish of 2 more threads\n",
      "INFO - 00:40:37: worker thread finished; awaiting finish of 1 more threads\n",
      "INFO - 00:40:37: worker thread finished; awaiting finish of 0 more threads\n",
      "INFO - 00:40:37: EPOCH - 29 : training on 3638618 raw words (1435739 effective words) took 9.9s, 145680 effective words/s\n",
      "INFO - 00:40:38: EPOCH 30 - PROGRESS: at 10.19% examples, 126541 words/s, in_qsize 0, out_qsize 1\n",
      "INFO - 00:40:39: EPOCH 30 - PROGRESS: at 20.98% examples, 137867 words/s, in_qsize 0, out_qsize 0\n",
      "INFO - 00:40:40: EPOCH 30 - PROGRESS: at 31.14% examples, 141757 words/s, in_qsize 0, out_qsize 1\n",
      "INFO - 00:40:41: EPOCH 30 - PROGRESS: at 41.98% examples, 144176 words/s, in_qsize 0, out_qsize 0\n",
      "INFO - 00:40:42: EPOCH 30 - PROGRESS: at 49.96% examples, 146385 words/s, in_qsize 0, out_qsize 0\n",
      "INFO - 00:40:43: EPOCH 30 - PROGRESS: at 59.43% examples, 146649 words/s, in_qsize 0, out_qsize 0\n",
      "INFO - 00:40:44: EPOCH 30 - PROGRESS: at 70.31% examples, 146114 words/s, in_qsize 0, out_qsize 0\n",
      "INFO - 00:40:45: EPOCH 30 - PROGRESS: at 81.59% examples, 143872 words/s, in_qsize 0, out_qsize 0\n",
      "INFO - 00:40:46: EPOCH 30 - PROGRESS: at 91.60% examples, 144583 words/s, in_qsize 0, out_qsize 1\n",
      "INFO - 00:40:47: worker thread finished; awaiting finish of 6 more threads\n",
      "INFO - 00:40:47: worker thread finished; awaiting finish of 5 more threads\n",
      "INFO - 00:40:47: worker thread finished; awaiting finish of 4 more threads\n",
      "INFO - 00:40:47: worker thread finished; awaiting finish of 3 more threads\n",
      "INFO - 00:40:47: worker thread finished; awaiting finish of 2 more threads\n",
      "INFO - 00:40:47: worker thread finished; awaiting finish of 1 more threads\n",
      "INFO - 00:40:47: worker thread finished; awaiting finish of 0 more threads\n",
      "INFO - 00:40:47: EPOCH - 30 : training on 3638618 raw words (1435756 effective words) took 9.9s, 144551 effective words/s\n",
      "INFO - 00:40:47: training on a 109158540 raw words (43067094 effective words) took 296.7s, 145176 effective words/s\n"
     ]
    },
    {
     "name": "stdout",
     "output_type": "stream",
     "text": [
      "Time to train the model: 4.94 mins\n"
     ]
    }
   ],
   "source": [
    "t = time()\n",
    "\n",
    "w2v_model.train(sentences, total_examples=w2v_model.corpus_count, epochs=30, report_delay=1)\n",
    "\n",
    "print('Time to train the model: {} mins'.format(round((time() - t) / 60, 2)))"
   ]
  },
  {
   "cell_type": "code",
   "execution_count": 47,
   "metadata": {},
   "outputs": [
    {
     "name": "stderr",
     "output_type": "stream",
     "text": [
      "INFO - 00:40:47: precomputing L2-norms of word weight vectors\n"
     ]
    }
   ],
   "source": [
    "w2v_model.init_sims(replace=True)"
   ]
  },
  {
   "cell_type": "code",
   "execution_count": 18,
   "metadata": {},
   "outputs": [
    {
     "ename": "NameError",
     "evalue": "name 'w2v_model' is not defined",
     "output_type": "error",
     "traceback": [
      "\u001b[1;31m---------------------------------------------------------------------------\u001b[0m",
      "\u001b[1;31mNameError\u001b[0m                                 Traceback (most recent call last)",
      "\u001b[1;32m<ipython-input-18-4369668a3a28>\u001b[0m in \u001b[0;36m<module>\u001b[1;34m\u001b[0m\n\u001b[1;32m----> 1\u001b[1;33m \u001b[0mw2v_model\u001b[0m\u001b[1;33m.\u001b[0m\u001b[0mwv\u001b[0m\u001b[1;33m.\u001b[0m\u001b[0mmost_similar\u001b[0m\u001b[1;33m(\u001b[0m\u001b[0mpositive\u001b[0m\u001b[1;33m=\u001b[0m\u001b[1;33m[\u001b[0m\u001b[1;34m\"trump\"\u001b[0m\u001b[1;33m]\u001b[0m\u001b[1;33m)\u001b[0m\u001b[1;33m\u001b[0m\u001b[1;33m\u001b[0m\u001b[0m\n\u001b[0m",
      "\u001b[1;31mNameError\u001b[0m: name 'w2v_model' is not defined"
     ]
    }
   ],
   "source": [
    "w2v_model.wv.most_similar(positive=[\"trump\"])"
   ]
  },
  {
   "cell_type": "code",
   "execution_count": 3,
   "metadata": {},
   "outputs": [
    {
     "name": "stderr",
     "output_type": "stream",
     "text": [
      "INFO - 12:02:58: loading projection weights from C:\\Users\\Rajnish\\Desktop\\Assignment 4\\modelfinal.bin\n",
      "INFO - 12:03:04: loaded (102421, 200) matrix from C:\\Users\\Rajnish\\Desktop\\Assignment 4\\modelfinal.bin\n"
     ]
    }
   ],
   "source": [
    "w2v_model = KeyedVectors.load_word2vec_format(datapath(r\"C:\\Users\\Rajnish\\Desktop\\Assignment 4\\modelfinal.bin\"), binary=True)"
   ]
  },
  {
   "cell_type": "code",
   "execution_count": null,
   "metadata": {},
   "outputs": [],
   "source": []
  },
  {
   "cell_type": "code",
   "execution_count": 7,
   "metadata": {},
   "outputs": [
    {
     "name": "stderr",
     "output_type": "stream",
     "text": [
      "C:\\Users\\Rajnish\\Anaconda3\\lib\\site-packages\\ipykernel_launcher.py:1: DeprecationWarning: Call to deprecated `wv` (Attribute will be removed in 4.0.0, use self instead).\n",
      "  \"\"\"Entry point for launching an IPython kernel.\n"
     ]
    },
    {
     "data": {
      "text/plain": [
       "[('queen', 0.5467880964279175),\n",
       " ('kings', 0.47554317116737366),\n",
       " ('legend', 0.4600725769996643),\n",
       " ('first_lady', 0.4459725618362427),\n",
       " ('david', 0.4430624842643738),\n",
       " ('princess', 0.4338906407356262),\n",
       " ('king’s', 0.43005168437957764),\n",
       " ('president', 0.4281637668609619),\n",
       " ('champion', 0.4280173182487488),\n",
       " ('king_jr', 0.4190962314605713)]"
      ]
     },
     "execution_count": 7,
     "metadata": {},
     "output_type": "execute_result"
    }
   ],
   "source": [
    "w2v_model.wv.most_similar(positive=[\"king\", \"woman\"], negative=[\"man\"], topn=10)"
   ]
  },
  {
   "cell_type": "code",
   "execution_count": null,
   "metadata": {},
   "outputs": [],
   "source": []
  },
  {
   "cell_type": "code",
   "execution_count": 3,
   "metadata": {},
   "outputs": [
    {
     "name": "stderr",
     "output_type": "stream",
     "text": [
      "C:\\Users\\Rajnish\\Anaconda3\\lib\\site-packages\\ipykernel_launcher.py:1: DeprecationWarning: Call to deprecated `wv` (Attribute will be removed in 4.0.0, use self instead).\n",
      "  \"\"\"Entry point for launching an IPython kernel.\n",
      "INFO - 14:31:25: precomputing L2-norms of word weight vectors\n"
     ]
    },
    {
     "data": {
      "text/plain": [
       "[('donald_trump', 0.577904462814331),\n",
       " ('realdonaldtrump', 0.5481843948364258),\n",
       " ('trump', 0.5224006772041321),\n",
       " ('mr', 0.5032348036766052),\n",
       " ('him', 0.4678301215171814),\n",
       " ('sir', 0.46452999114990234),\n",
       " ('potus', 0.453476220369339),\n",
       " ('president_trump', 0.4518176317214966),\n",
       " ('so', 0.45052385330200195),\n",
       " ('president', 0.4472476840019226)]"
      ]
     },
     "execution_count": 3,
     "metadata": {},
     "output_type": "execute_result"
    }
   ],
   "source": [
    "w2v_model.wv.most_similar(positive=[\"donald\", \"man\"], negative=[\"woman\"], topn=10)"
   ]
  },
  {
   "cell_type": "code",
   "execution_count": 9,
   "metadata": {},
   "outputs": [
    {
     "name": "stderr",
     "output_type": "stream",
     "text": [
      "C:\\Users\\Rajnish\\Anaconda3\\lib\\site-packages\\ipykernel_launcher.py:1: DeprecationWarning: Call to deprecated `wv` (Attribute will be removed in 4.0.0, use self instead).\n",
      "  \"\"\"Entry point for launching an IPython kernel.\n"
     ]
    },
    {
     "data": {
      "text/plain": [
       "[('donald_trump', 0.5900172591209412),\n",
       " ('realdonaldtrump', 0.5558092594146729),\n",
       " ('trump', 0.532914936542511),\n",
       " ('hillary', 0.5144106149673462),\n",
       " ('michelle_obama', 0.49386894702911377),\n",
       " ('president_trump', 0.4921758770942688),\n",
       " ('hillaryclinton', 0.4890635013580322),\n",
       " ('first_lady', 0.47681814432144165),\n",
       " ('hillary_clinton', 0.47592997550964355),\n",
       " ('potus', 0.47388508915901184)]"
      ]
     },
     "execution_count": 9,
     "metadata": {},
     "output_type": "execute_result"
    }
   ],
   "source": [
    "w2v_model.wv.most_similar(positive=[\"donald\", \"woman\"], negative=[\"man\"], topn=10)"
   ]
  },
  {
   "cell_type": "code",
   "execution_count": 10,
   "metadata": {},
   "outputs": [
    {
     "name": "stderr",
     "output_type": "stream",
     "text": [
      "C:\\Users\\Rajnish\\Anaconda3\\lib\\site-packages\\ipykernel_launcher.py:1: DeprecationWarning: Call to deprecated `wv` (Attribute will be removed in 4.0.0, use self instead).\n",
      "  \"\"\"Entry point for launching an IPython kernel.\n",
      "C:\\Users\\Rajnish\\Anaconda3\\lib\\site-packages\\gensim\\models\\keyedvectors.py:877: FutureWarning: arrays to stack must be passed as a \"sequence\" type such as list or tuple. Support for non-sequence iterables such as generators is deprecated as of NumPy 1.16 and will raise an error in the future.\n",
      "  vectors = vstack(self.word_vec(word, use_norm=True) for word in used_words).astype(REAL)\n"
     ]
    },
    {
     "data": {
      "text/plain": [
       "'clinton'"
      ]
     },
     "execution_count": 10,
     "metadata": {},
     "output_type": "execute_result"
    }
   ],
   "source": [
    "w2v_model.wv.doesnt_match([\"trump\", \"clinton\", \"obama\"]) #odd one out"
   ]
  },
  {
   "cell_type": "code",
   "execution_count": null,
   "metadata": {},
   "outputs": [],
   "source": []
  },
  {
   "cell_type": "code",
   "execution_count": 11,
   "metadata": {},
   "outputs": [
    {
     "name": "stderr",
     "output_type": "stream",
     "text": [
      "C:\\Users\\Rajnish\\Anaconda3\\lib\\site-packages\\ipykernel_launcher.py:1: DeprecationWarning: Call to deprecated `wv` (Attribute will be removed in 4.0.0, use self instead).\n",
      "  \"\"\"Entry point for launching an IPython kernel.\n"
     ]
    },
    {
     "data": {
      "text/plain": [
       "(102421, 200)"
      ]
     },
     "execution_count": 11,
     "metadata": {},
     "output_type": "execute_result"
    }
   ],
   "source": [
    "w2v_model.wv.vectors.shape"
   ]
  },
  {
   "cell_type": "code",
   "execution_count": 18,
   "metadata": {},
   "outputs": [],
   "source": [
    "import numpy as np\n",
    "import matplotlib.pyplot as plt\n",
    "%matplotlib inline\n",
    " \n",
    "import seaborn as sns\n",
    "sns.set_style(\"darkgrid\")\n",
    "\n",
    "from sklearn.decomposition import PCA\n",
    "from sklearn.manifold import TSNE"
   ]
  },
  {
   "cell_type": "code",
   "execution_count": 17,
   "metadata": {},
   "outputs": [],
   "source": [
    "def tsnescatterplot(model, word, list_names):\n",
    "    \"\"\" Plot in seaborn the results from the t-SNE dimensionality reduction algorithm of the vectors of a query word,\n",
    "    its list of most similar words, and a list of words.\n",
    "    \"\"\"\n",
    "    arrays = np.empty((0, 200), dtype='f')\n",
    "    word_labels = [word]\n",
    "    color_list  = ['red']\n",
    "\n",
    "    # adds the vector of the query word\n",
    "    arrays = np.append(arrays, model.wv.__getitem__([word]), axis=0)\n",
    "    \n",
    "    # gets list of most similar words\n",
    "    close_words = model.wv.most_similar([word])\n",
    "    \n",
    "    # adds the vector for each of the closest words to the array\n",
    "    for wrd_score in close_words:\n",
    "        wrd_vector = model.wv.__getitem__([wrd_score[0]])\n",
    "        word_labels.append(wrd_score[0])\n",
    "        color_list.append('blue')\n",
    "        arrays = np.append(arrays, wrd_vector, axis=0)\n",
    "    \n",
    "    # adds the vector for each of the words from list_names to the array\n",
    "    for wrd in list_names:\n",
    "        wrd_vector = model.wv.__getitem__([wrd])\n",
    "        word_labels.append(wrd)\n",
    "        color_list.append('green')\n",
    "        arrays = np.append(arrays, wrd_vector, axis=0)\n",
    "        \n",
    "    # Reduces the dimensionality from 300 to 21 dimensions with PCA\n",
    "    reduc = PCA(n_components=21).fit_transform(arrays)\n",
    "    \n",
    "    # Finds t-SNE coordinates for 2 dimensions\n",
    "    np.set_printoptions(suppress=True)\n",
    "    \n",
    "    Y = TSNE(n_components=2, random_state=0, perplexity=15).fit_transform(reduc)\n",
    "    \n",
    "    # Sets everything up to plot\n",
    "    df = pd.DataFrame({'x': [x for x in Y[:, 0]],\n",
    "                       'y': [y for y in Y[:, 1]],\n",
    "                       'words': word_labels,\n",
    "                       'color': color_list})\n",
    "    \n",
    "    fig, _ = plt.subplots()\n",
    "    fig.set_size_inches(9, 9)\n",
    "    \n",
    "    # Basic plot\n",
    "    p1 = sns.regplot(data=df,\n",
    "                     x=\"x\",\n",
    "                     y=\"y\",\n",
    "                     fit_reg=False,\n",
    "                     marker=\"o\",\n",
    "                     scatter_kws={'s': 40,\n",
    "                                  'facecolors': df['color']\n",
    "                                 }\n",
    "                    )\n",
    "    \n",
    "    # Adds annotations one by one with a loop\n",
    "    for line in range(0, df.shape[0]):\n",
    "         p1.text(df[\"x\"][line],\n",
    "                 df['y'][line],\n",
    "                 '  ' + df[\"words\"][line].title(),\n",
    "                 horizontalalignment='left',\n",
    "                 verticalalignment='bottom', size='medium',\n",
    "                 color=df['color'][line],\n",
    "                 weight='normal'\n",
    "                ).set_size(15)\n",
    "\n",
    "    \n",
    "    plt.xlim(Y[:, 0].min()-50, Y[:, 0].max()+50)\n",
    "    plt.ylim(Y[:, 1].min()-50, Y[:, 1].max()+50)\n",
    "            \n",
    "    plt.title('t-SNE visualization for {}'.format(word.title()))\n"
   ]
  },
  {
   "cell_type": "code",
   "execution_count": null,
   "metadata": {},
   "outputs": [],
   "source": []
  },
  {
   "cell_type": "code",
   "execution_count": 18,
   "metadata": {},
   "outputs": [
    {
     "name": "stderr",
     "output_type": "stream",
     "text": [
      "C:\\Users\\Rajnish\\Anaconda3\\lib\\site-packages\\ipykernel_launcher.py:1: DeprecationWarning: Call to deprecated `wv` (Attribute will be removed in 4.0.0, use self instead).\n",
      "  \"\"\"Entry point for launching an IPython kernel.\n",
      "C:\\Users\\Rajnish\\Anaconda3\\lib\\site-packages\\ipykernel_launcher.py:10: DeprecationWarning: Call to deprecated `wv` (Attribute will be removed in 4.0.0, use self instead).\n",
      "  # Remove the CWD from sys.path while we load stuff.\n",
      "C:\\Users\\Rajnish\\Anaconda3\\lib\\site-packages\\ipykernel_launcher.py:13: DeprecationWarning: Call to deprecated `wv` (Attribute will be removed in 4.0.0, use self instead).\n",
      "  del sys.path[0]\n",
      "C:\\Users\\Rajnish\\Anaconda3\\lib\\site-packages\\ipykernel_launcher.py:17: DeprecationWarning: Call to deprecated `wv` (Attribute will be removed in 4.0.0, use self instead).\n",
      "C:\\Users\\Rajnish\\Anaconda3\\lib\\site-packages\\ipykernel_launcher.py:24: DeprecationWarning: Call to deprecated `wv` (Attribute will be removed in 4.0.0, use self instead).\n"
     ]
    },
    {
     "data": {
      "image/png": "[encoded data removed]",
      "text/plain": [
       "<Figure size 648x648 with 1 Axes>"
      ]
     },
     "metadata": {},
     "output_type": "display_data"
    }
   ],
   "source": [
    "tsnescatterplot(w2v_model, 'clinton', [i[0] for i in w2v_model.wv.most_similar(negative=[\"clinton\"])])"
   ]
  },
  {
   "cell_type": "code",
   "execution_count": 19,
   "metadata": {},
   "outputs": [
    {
     "name": "stderr",
     "output_type": "stream",
     "text": [
      "C:\\Users\\Rajnish\\Anaconda3\\lib\\site-packages\\ipykernel_launcher.py:1: DeprecationWarning: Call to deprecated `wv` (Attribute will be removed in 4.0.0, use self instead).\n",
      "  \"\"\"Entry point for launching an IPython kernel.\n",
      "C:\\Users\\Rajnish\\Anaconda3\\lib\\site-packages\\ipykernel_launcher.py:10: DeprecationWarning: Call to deprecated `wv` (Attribute will be removed in 4.0.0, use self instead).\n",
      "  # Remove the CWD from sys.path while we load stuff.\n",
      "C:\\Users\\Rajnish\\Anaconda3\\lib\\site-packages\\ipykernel_launcher.py:13: DeprecationWarning: Call to deprecated `wv` (Attribute will be removed in 4.0.0, use self instead).\n",
      "  del sys.path[0]\n",
      "C:\\Users\\Rajnish\\Anaconda3\\lib\\site-packages\\ipykernel_launcher.py:17: DeprecationWarning: Call to deprecated `wv` (Attribute will be removed in 4.0.0, use self instead).\n",
      "C:\\Users\\Rajnish\\Anaconda3\\lib\\site-packages\\ipykernel_launcher.py:24: DeprecationWarning: Call to deprecated `wv` (Attribute will be removed in 4.0.0, use self instead).\n"
     ]
    },
    {
     "data": {
      "image/png": "[encoded data removed]",
      "text/plain": [
       "<Figure size 648x648 with 1 Axes>"
      ]
     },
     "metadata": {},
     "output_type": "display_data"
    }
   ],
   "source": [
    "tsnescatterplot(w2v_model, 'trump', [i[0] for i in w2v_model.wv.most_similar(negative=[\"trump\"])])"
   ]
  },
  {
   "cell_type": "code",
   "execution_count": 20,
   "metadata": {},
   "outputs": [
    {
     "name": "stderr",
     "output_type": "stream",
     "text": [
      "C:\\Users\\Rajnish\\Anaconda3\\lib\\site-packages\\ipykernel_launcher.py:1: DeprecationWarning: Call to deprecated `wv` (Attribute will be removed in 4.0.0, use self instead).\n",
      "  \"\"\"Entry point for launching an IPython kernel.\n",
      "C:\\Users\\Rajnish\\Anaconda3\\lib\\site-packages\\ipykernel_launcher.py:10: DeprecationWarning: Call to deprecated `wv` (Attribute will be removed in 4.0.0, use self instead).\n",
      "  # Remove the CWD from sys.path while we load stuff.\n",
      "C:\\Users\\Rajnish\\Anaconda3\\lib\\site-packages\\ipykernel_launcher.py:13: DeprecationWarning: Call to deprecated `wv` (Attribute will be removed in 4.0.0, use self instead).\n",
      "  del sys.path[0]\n",
      "C:\\Users\\Rajnish\\Anaconda3\\lib\\site-packages\\ipykernel_launcher.py:17: DeprecationWarning: Call to deprecated `wv` (Attribute will be removed in 4.0.0, use self instead).\n",
      "C:\\Users\\Rajnish\\Anaconda3\\lib\\site-packages\\ipykernel_launcher.py:24: DeprecationWarning: Call to deprecated `wv` (Attribute will be removed in 4.0.0, use self instead).\n"
     ]
    },
    {
     "data": {
      "image/png": "[encoded data removed]",
      "text/plain": [
       "<Figure size 648x648 with 1 Axes>"
      ]
     },
     "metadata": {},
     "output_type": "display_data"
    }
   ],
   "source": [
    "tsnescatterplot(w2v_model, 'obama', [i[0] for i in w2v_model.wv.most_similar(negative=[\"obama\"])])"
   ]
  },
  {
   "cell_type": "code",
   "execution_count": 21,
   "metadata": {},
   "outputs": [
    {
     "name": "stderr",
     "output_type": "stream",
     "text": [
      "C:\\Users\\Rajnish\\Anaconda3\\lib\\site-packages\\ipykernel_launcher.py:1: DeprecationWarning: Call to deprecated `wv` (Attribute will be removed in 4.0.0, use self instead).\n",
      "  \"\"\"Entry point for launching an IPython kernel.\n",
      "C:\\Users\\Rajnish\\Anaconda3\\lib\\site-packages\\ipykernel_launcher.py:10: DeprecationWarning: Call to deprecated `wv` (Attribute will be removed in 4.0.0, use self instead).\n",
      "  # Remove the CWD from sys.path while we load stuff.\n",
      "C:\\Users\\Rajnish\\Anaconda3\\lib\\site-packages\\ipykernel_launcher.py:13: DeprecationWarning: Call to deprecated `wv` (Attribute will be removed in 4.0.0, use self instead).\n",
      "  del sys.path[0]\n",
      "C:\\Users\\Rajnish\\Anaconda3\\lib\\site-packages\\ipykernel_launcher.py:17: DeprecationWarning: Call to deprecated `wv` (Attribute will be removed in 4.0.0, use self instead).\n",
      "C:\\Users\\Rajnish\\Anaconda3\\lib\\site-packages\\ipykernel_launcher.py:24: DeprecationWarning: Call to deprecated `wv` (Attribute will be removed in 4.0.0, use self instead).\n"
     ]
    },
    {
     "data": {
      "image/png": "[encoded data removed]",
      "text/plain": [
       "<Figure size 648x648 with 1 Axes>"
      ]
     },
     "metadata": {},
     "output_type": "display_data"
    }
   ],
   "source": [
    "tsnescatterplot(w2v_model, 'senator', [i[0] for i in w2v_model.wv.most_similar(negative=[\"senator\"])])"
   ]
  },
  {
   "cell_type": "code",
   "execution_count": 16,
   "metadata": {},
   "outputs": [
    {
     "name": "stderr",
     "output_type": "stream",
     "text": [
      "C:\\Users\\Rajnish\\Anaconda3\\lib\\site-packages\\ipykernel_launcher.py:5: DeprecationWarning: Call to deprecated `wv` (Attribute will be removed in 4.0.0, use self instead).\n",
      "  \"\"\"\n",
      "C:\\Users\\Rajnish\\Anaconda3\\lib\\site-packages\\ipykernel_launcher.py:7: DeprecationWarning: Call to deprecated `wv` (Attribute will be removed in 4.0.0, use self instead).\n",
      "  import sys\n"
     ]
    },
    {
     "data": {
      "text/plain": [
       "['donald_trump',\n",
       " 'trump',\n",
       " 'hillary_clinton',\n",
       " 'president_trump',\n",
       " 'obama',\n",
       " 'realdonaldtrump',\n",
       " 'bernie_sanders',\n",
       " 'hillary',\n",
       " 'donaldtrump',\n",
       " 'ted_cruz',\n",
       " 'clinton']"
      ]
     },
     "execution_count": 16,
     "metadata": {},
     "output_type": "execute_result"
    }
   ],
   "source": [
    "import numpy as np\n",
    "word_labels = ['donald_trump']\n",
    "model=w2v_model\n",
    "arrays = np.empty((0, 200), dtype='f')\n",
    "list_names=[i[0] for i in w2v_model.wv.most_similar(positive=[\"donald_trump\"])]\n",
    "for wrd in list_names:\n",
    "        wrd_vector = model.wv.__getitem__([wrd])\n",
    "        word_labels.append(wrd)\n",
    "        #color_list.append('green')\n",
    "        arrays = np.append(arrays, wrd_vector, axis=0)\n",
    "word_labels"
   ]
  },
  {
   "cell_type": "code",
   "execution_count": 62,
   "metadata": {},
   "outputs": [
    {
     "name": "stderr",
     "output_type": "stream",
     "text": [
      "INFO - 00:41:40: storing 12524x200 projection weights into model.bin\n"
     ]
    }
   ],
   "source": [
    "#w2v_model.wv.save_word2vec_format('model.bin', binary=True)"
   ]
  },
  {
   "cell_type": "code",
   "execution_count": null,
   "metadata": {},
   "outputs": [
    {
     "name": "stderr",
     "output_type": "stream",
     "text": [
      "C:\\Users\\Rajnish\\Anaconda3\\lib\\site-packages\\ipykernel_launcher.py:5: DeprecationWarning: Call to deprecated `wv` (Attribute will be removed in 4.0.0, use self instead).\n",
      "  \"\"\"\n",
      "C:\\Users\\Rajnish\\Anaconda3\\lib\\site-packages\\ipykernel_launcher.py:6: DeprecationWarning: Call to deprecated `wv` (Attribute will be removed in 4.0.0, use self instead).\n",
      "  \n"
     ]
    }
   ],
   "source": [
    "import matplotlib.pyplot as plt\n",
    "import matplotlib.cm as cm\n",
    "words_ak = []\n",
    "embeddings_ak = []\n",
    "for word in list(w2v_model.wv.vocab):\n",
    "    embeddings_ak.append(w2v_model.wv[word])\n",
    "    words_ak.append(word)\n",
    "    \n",
    "tsne_ak_2d = TSNE(perplexity=50, n_components=2, init='pca', n_iter=3500, random_state=32)\n",
    "embeddings_ak_2d = tsne_ak_2d.fit_transform(embeddings_ak)\n",
    "\n",
    "def tsne_plot_2d(label, embeddings, words=[], a=1):\n",
    "    plt.figure(figsize=(16, 9))\n",
    "    colors = cm.rainbow(np.linspace(0, 1, 1))\n",
    "    x = embeddings[:,0]\n",
    "    y = embeddings[:,1]\n",
    "    plt.scatter(x, y, c=colors, alpha=a, label=label)\n",
    "    for i, word in enumerate(words):\n",
    "        plt.annotate(word, alpha=0.3, xy=(x[i], y[i]), xytext=(5, 2), \n",
    "                     textcoords='offset points', ha='right', va='bottom', size=10)\n",
    "    plt.legend(loc=4)\n",
    "    plt.grid(True)\n",
    "    plt.savefig(\"hhh.png\", format='png', dpi=150, bbox_inches='tight')\n",
    "    plt.show()\n",
    "\n",
    "tsne_plot_2d('Cluster of the words in our Vocab', embeddings_ak_2d, a=0.1)"
   ]
  },
  {
   "cell_type": "code",
   "execution_count": 24,
   "metadata": {},
   "outputs": [
    {
     "data": {
      "text/html": [
       "<div>\n",
       "<style scoped>\n",
       "    .dataframe tbody tr th:only-of-type {\n",
       "        vertical-align: middle;\n",
       "    }\n",
       "\n",
       "    .dataframe tbody tr th {\n",
       "        vertical-align: top;\n",
       "    }\n",
       "\n",
       "    .dataframe thead th {\n",
       "        text-align: right;\n",
       "    }\n",
       "</style>\n",
       "<table border=\"1\" class=\"dataframe\">\n",
       "  <thead>\n",
       "    <tr style=\"text-align: right;\">\n",
       "      <th></th>\n",
       "      <th>external_author_id</th>\n",
       "      <th>author</th>\n",
       "      <th>content</th>\n",
       "      <th>region</th>\n",
       "      <th>language</th>\n",
       "      <th>publish_date</th>\n",
       "      <th>harvested_date</th>\n",
       "      <th>following</th>\n",
       "      <th>followers</th>\n",
       "      <th>updates</th>\n",
       "      <th>...</th>\n",
       "      <th>account_type</th>\n",
       "      <th>retweet</th>\n",
       "      <th>account_category</th>\n",
       "      <th>new_june_2018</th>\n",
       "      <th>alt_external_id</th>\n",
       "      <th>tweet_id</th>\n",
       "      <th>article_url</th>\n",
       "      <th>tco1_step1</th>\n",
       "      <th>tco2_step1</th>\n",
       "      <th>tco3_step1</th>\n",
       "    </tr>\n",
       "  </thead>\n",
       "  <tbody>\n",
       "    <tr>\n",
       "      <td>372</td>\n",
       "      <td>2528776985</td>\n",
       "      <td>1488REASONS</td>\n",
       "      <td>Причина #67 Мутко: «Зенит-Арене» для адаптации...</td>\n",
       "      <td>Unknown</td>\n",
       "      <td>Russian</td>\n",
       "      <td>1/19/2017 13:07</td>\n",
       "      <td>1/19/2017 13:07</td>\n",
       "      <td>6311</td>\n",
       "      <td>6313</td>\n",
       "      <td>1806</td>\n",
       "      <td>...</td>\n",
       "      <td>Russian</td>\n",
       "      <td>0</td>\n",
       "      <td>NonEnglish</td>\n",
       "      <td>0</td>\n",
       "      <td>2528776985</td>\n",
       "      <td>822067907547066368</td>\n",
       "      <td>http://twitter.com/2528776985/statuses/8220679...</td>\n",
       "      <td>NaN</td>\n",
       "      <td>NaN</td>\n",
       "      <td>NaN</td>\n",
       "    </tr>\n",
       "    <tr>\n",
       "      <td>373</td>\n",
       "      <td>2528776985</td>\n",
       "      <td>1488REASONS</td>\n",
       "      <td>Причина #70 Житель Самары умер в очереди в пол...</td>\n",
       "      <td>Unknown</td>\n",
       "      <td>Russian</td>\n",
       "      <td>1/22/2017 12:37</td>\n",
       "      <td>4/5/2017 7:17</td>\n",
       "      <td>1580</td>\n",
       "      <td>6298</td>\n",
       "      <td>1869</td>\n",
       "      <td>...</td>\n",
       "      <td>Russian</td>\n",
       "      <td>0</td>\n",
       "      <td>NonEnglish</td>\n",
       "      <td>0</td>\n",
       "      <td>2528776985</td>\n",
       "      <td>823147583895994368</td>\n",
       "      <td>http://twitter.com/2528776985/statuses/8231475...</td>\n",
       "      <td>NaN</td>\n",
       "      <td>NaN</td>\n",
       "      <td>NaN</td>\n",
       "    </tr>\n",
       "    <tr>\n",
       "      <td>374</td>\n",
       "      <td>2528776985</td>\n",
       "      <td>1488REASONS</td>\n",
       "      <td>Причина #74 Президентский советник предложил о...</td>\n",
       "      <td>Unknown</td>\n",
       "      <td>Russian</td>\n",
       "      <td>1/26/2017 15:39</td>\n",
       "      <td>1/26/2017 15:40</td>\n",
       "      <td>6305</td>\n",
       "      <td>6312</td>\n",
       "      <td>1813</td>\n",
       "      <td>...</td>\n",
       "      <td>Russian</td>\n",
       "      <td>0</td>\n",
       "      <td>NonEnglish</td>\n",
       "      <td>0</td>\n",
       "      <td>2528776985</td>\n",
       "      <td>824643054351085568</td>\n",
       "      <td>http://twitter.com/2528776985/statuses/8246430...</td>\n",
       "      <td>NaN</td>\n",
       "      <td>NaN</td>\n",
       "      <td>NaN</td>\n",
       "    </tr>\n",
       "    <tr>\n",
       "      <td>375</td>\n",
       "      <td>2528776985</td>\n",
       "      <td>1488REASONS</td>\n",
       "      <td>Причина #75 Казаков благословили на защиту инт...</td>\n",
       "      <td>Unknown</td>\n",
       "      <td>Russian</td>\n",
       "      <td>1/27/2017 13:23</td>\n",
       "      <td>1/27/2017 13:23</td>\n",
       "      <td>6304</td>\n",
       "      <td>6311</td>\n",
       "      <td>1814</td>\n",
       "      <td>...</td>\n",
       "      <td>Russian</td>\n",
       "      <td>0</td>\n",
       "      <td>NonEnglish</td>\n",
       "      <td>0</td>\n",
       "      <td>2528776985</td>\n",
       "      <td>824971050161209344</td>\n",
       "      <td>http://twitter.com/2528776985/statuses/8249710...</td>\n",
       "      <td>NaN</td>\n",
       "      <td>NaN</td>\n",
       "      <td>NaN</td>\n",
       "    </tr>\n",
       "    <tr>\n",
       "      <td>376</td>\n",
       "      <td>2528776985</td>\n",
       "      <td>1488REASONS</td>\n",
       "      <td>Причина #77 В Кстово полицейские сломали женщи...</td>\n",
       "      <td>Unknown</td>\n",
       "      <td>Russian</td>\n",
       "      <td>1/29/2017 11:07</td>\n",
       "      <td>1/29/2017 11:30</td>\n",
       "      <td>6306</td>\n",
       "      <td>6308</td>\n",
       "      <td>1816</td>\n",
       "      <td>...</td>\n",
       "      <td>Russian</td>\n",
       "      <td>0</td>\n",
       "      <td>NonEnglish</td>\n",
       "      <td>0</td>\n",
       "      <td>2528776985</td>\n",
       "      <td>825661520726089728</td>\n",
       "      <td>http://twitter.com/2528776985/statuses/8256615...</td>\n",
       "      <td>NaN</td>\n",
       "      <td>NaN</td>\n",
       "      <td>NaN</td>\n",
       "    </tr>\n",
       "    <tr>\n",
       "      <td>...</td>\n",
       "      <td>...</td>\n",
       "      <td>...</td>\n",
       "      <td>...</td>\n",
       "      <td>...</td>\n",
       "      <td>...</td>\n",
       "      <td>...</td>\n",
       "      <td>...</td>\n",
       "      <td>...</td>\n",
       "      <td>...</td>\n",
       "      <td>...</td>\n",
       "      <td>...</td>\n",
       "      <td>...</td>\n",
       "      <td>...</td>\n",
       "      <td>...</td>\n",
       "      <td>...</td>\n",
       "      <td>...</td>\n",
       "      <td>...</td>\n",
       "      <td>...</td>\n",
       "      <td>...</td>\n",
       "      <td>...</td>\n",
       "      <td>...</td>\n",
       "    </tr>\n",
       "    <tr>\n",
       "      <td>242397</td>\n",
       "      <td>2446391643</td>\n",
       "      <td>ATULSCARPA</td>\n",
       "      <td>'@zubovnik и останутся пассивы, доведя её до п...</td>\n",
       "      <td>United States</td>\n",
       "      <td>Russian</td>\n",
       "      <td>7/16/2015 23:35</td>\n",
       "      <td>7/16/2015 23:38</td>\n",
       "      <td>729</td>\n",
       "      <td>797</td>\n",
       "      <td>2795</td>\n",
       "      <td>...</td>\n",
       "      <td>Russian</td>\n",
       "      <td>0</td>\n",
       "      <td>NonEnglish</td>\n",
       "      <td>1</td>\n",
       "      <td>2446391643</td>\n",
       "      <td>621825618330693632</td>\n",
       "      <td>http://twitter.com/AtulScarpa/statuses/6218256...</td>\n",
       "      <td>NaN</td>\n",
       "      <td>NaN</td>\n",
       "      <td>NaN</td>\n",
       "    </tr>\n",
       "    <tr>\n",
       "      <td>242398</td>\n",
       "      <td>2446391643</td>\n",
       "      <td>ATULSCARPA</td>\n",
       "      <td>'@NovostiEkb вот это - дело!'</td>\n",
       "      <td>United States</td>\n",
       "      <td>Russian</td>\n",
       "      <td>8/24/2015 19:11</td>\n",
       "      <td>9/20/2015 14:06</td>\n",
       "      <td>198</td>\n",
       "      <td>688</td>\n",
       "      <td>2836</td>\n",
       "      <td>...</td>\n",
       "      <td>Russian</td>\n",
       "      <td>0</td>\n",
       "      <td>NonEnglish</td>\n",
       "      <td>1</td>\n",
       "      <td>2446391643</td>\n",
       "      <td>635892251701420032</td>\n",
       "      <td>http://twitter.com/AtulScarpa/statuses/6358922...</td>\n",
       "      <td>NaN</td>\n",
       "      <td>NaN</td>\n",
       "      <td>NaN</td>\n",
       "    </tr>\n",
       "    <tr>\n",
       "      <td>242399</td>\n",
       "      <td>2446391643</td>\n",
       "      <td>ATULSCARPA</td>\n",
       "      <td>Пойдет ли Запад на 4 условия Путина?  http://t...</td>\n",
       "      <td>United States</td>\n",
       "      <td>Russian</td>\n",
       "      <td>9/28/2015 14:34</td>\n",
       "      <td>9/28/2015 14:34</td>\n",
       "      <td>196</td>\n",
       "      <td>644</td>\n",
       "      <td>2891</td>\n",
       "      <td>...</td>\n",
       "      <td>Russian</td>\n",
       "      <td>1</td>\n",
       "      <td>NonEnglish</td>\n",
       "      <td>1</td>\n",
       "      <td>2446391643</td>\n",
       "      <td>648506011179974656</td>\n",
       "      <td>http://twitter.com/AtulScarpa/statuses/6485060...</td>\n",
       "      <td>https://twitter.com/zubovnik/status/6485038780...</td>\n",
       "      <td>http://boeing-is-back.livejournal.com/339835.html</td>\n",
       "      <td>NaN</td>\n",
       "    </tr>\n",
       "    <tr>\n",
       "      <td>242400</td>\n",
       "      <td>2446391643</td>\n",
       "      <td>ATULSCARPA</td>\n",
       "      <td>Немного хорошей пародии на тему блокады Крыма ...</td>\n",
       "      <td>United States</td>\n",
       "      <td>Russian</td>\n",
       "      <td>9/29/2015 13:15</td>\n",
       "      <td>9/29/2015 13:17</td>\n",
       "      <td>196</td>\n",
       "      <td>642</td>\n",
       "      <td>2892</td>\n",
       "      <td>...</td>\n",
       "      <td>Russian</td>\n",
       "      <td>0</td>\n",
       "      <td>NonEnglish</td>\n",
       "      <td>1</td>\n",
       "      <td>2446391643</td>\n",
       "      <td>648848596251623425</td>\n",
       "      <td>http://twitter.com/AtulScarpa/statuses/6488485...</td>\n",
       "      <td>https://www.youtube.com/watch?v=Q-PvYtQ9GWU&amp;fe...</td>\n",
       "      <td>NaN</td>\n",
       "      <td>NaN</td>\n",
       "    </tr>\n",
       "    <tr>\n",
       "      <td>242402</td>\n",
       "      <td>2446391643</td>\n",
       "      <td>ATULSCARPA</td>\n",
       "      <td>Глава ФМС:России не грозит поток мигрантов из ...</td>\n",
       "      <td>United States</td>\n",
       "      <td>Russian</td>\n",
       "      <td>9/9/2015 12:06</td>\n",
       "      <td>9/9/2015 12:06</td>\n",
       "      <td>197</td>\n",
       "      <td>662</td>\n",
       "      <td>2861</td>\n",
       "      <td>...</td>\n",
       "      <td>Russian</td>\n",
       "      <td>1</td>\n",
       "      <td>NonEnglish</td>\n",
       "      <td>1</td>\n",
       "      <td>2446391643</td>\n",
       "      <td>641583422012555265</td>\n",
       "      <td>http://twitter.com/AtulScarpa/statuses/6415834...</td>\n",
       "      <td>http://ria.ru/society/20150909/1239944110.html</td>\n",
       "      <td>NaN</td>\n",
       "      <td>NaN</td>\n",
       "    </tr>\n",
       "  </tbody>\n",
       "</table>\n",
       "<p>38411 rows × 21 columns</p>\n",
       "</div>"
      ],
      "text/plain": [
       "        external_author_id       author  \\\n",
       "372             2528776985  1488REASONS   \n",
       "373             2528776985  1488REASONS   \n",
       "374             2528776985  1488REASONS   \n",
       "375             2528776985  1488REASONS   \n",
       "376             2528776985  1488REASONS   \n",
       "...                    ...          ...   \n",
       "242397          2446391643   ATULSCARPA   \n",
       "242398          2446391643   ATULSCARPA   \n",
       "242399          2446391643   ATULSCARPA   \n",
       "242400          2446391643   ATULSCARPA   \n",
       "242402          2446391643   ATULSCARPA   \n",
       "\n",
       "                                                  content         region  \\\n",
       "372     Причина #67 Мутко: «Зенит-Арене» для адаптации...        Unknown   \n",
       "373     Причина #70 Житель Самары умер в очереди в пол...        Unknown   \n",
       "374     Причина #74 Президентский советник предложил о...        Unknown   \n",
       "375     Причина #75 Казаков благословили на защиту инт...        Unknown   \n",
       "376     Причина #77 В Кстово полицейские сломали женщи...        Unknown   \n",
       "...                                                   ...            ...   \n",
       "242397  '@zubovnik и останутся пассивы, доведя её до п...  United States   \n",
       "242398                      '@NovostiEkb вот это - дело!'  United States   \n",
       "242399  Пойдет ли Запад на 4 условия Путина?  http://t...  United States   \n",
       "242400  Немного хорошей пародии на тему блокады Крыма ...  United States   \n",
       "242402  Глава ФМС:России не грозит поток мигрантов из ...  United States   \n",
       "\n",
       "       language     publish_date   harvested_date  following  followers  \\\n",
       "372     Russian  1/19/2017 13:07  1/19/2017 13:07       6311       6313   \n",
       "373     Russian  1/22/2017 12:37    4/5/2017 7:17       1580       6298   \n",
       "374     Russian  1/26/2017 15:39  1/26/2017 15:40       6305       6312   \n",
       "375     Russian  1/27/2017 13:23  1/27/2017 13:23       6304       6311   \n",
       "376     Russian  1/29/2017 11:07  1/29/2017 11:30       6306       6308   \n",
       "...         ...              ...              ...        ...        ...   \n",
       "242397  Russian  7/16/2015 23:35  7/16/2015 23:38        729        797   \n",
       "242398  Russian  8/24/2015 19:11  9/20/2015 14:06        198        688   \n",
       "242399  Russian  9/28/2015 14:34  9/28/2015 14:34        196        644   \n",
       "242400  Russian  9/29/2015 13:15  9/29/2015 13:17        196        642   \n",
       "242402  Russian   9/9/2015 12:06   9/9/2015 12:06        197        662   \n",
       "\n",
       "        updates  ... account_type retweet  account_category new_june_2018  \\\n",
       "372        1806  ...      Russian       0        NonEnglish             0   \n",
       "373        1869  ...      Russian       0        NonEnglish             0   \n",
       "374        1813  ...      Russian       0        NonEnglish             0   \n",
       "375        1814  ...      Russian       0        NonEnglish             0   \n",
       "376        1816  ...      Russian       0        NonEnglish             0   \n",
       "...         ...  ...          ...     ...               ...           ...   \n",
       "242397     2795  ...      Russian       0        NonEnglish             1   \n",
       "242398     2836  ...      Russian       0        NonEnglish             1   \n",
       "242399     2891  ...      Russian       1        NonEnglish             1   \n",
       "242400     2892  ...      Russian       0        NonEnglish             1   \n",
       "242402     2861  ...      Russian       1        NonEnglish             1   \n",
       "\n",
       "        alt_external_id            tweet_id  \\\n",
       "372          2528776985  822067907547066368   \n",
       "373          2528776985  823147583895994368   \n",
       "374          2528776985  824643054351085568   \n",
       "375          2528776985  824971050161209344   \n",
       "376          2528776985  825661520726089728   \n",
       "...                 ...                 ...   \n",
       "242397       2446391643  621825618330693632   \n",
       "242398       2446391643  635892251701420032   \n",
       "242399       2446391643  648506011179974656   \n",
       "242400       2446391643  648848596251623425   \n",
       "242402       2446391643  641583422012555265   \n",
       "\n",
       "                                              article_url  \\\n",
       "372     http://twitter.com/2528776985/statuses/8220679...   \n",
       "373     http://twitter.com/2528776985/statuses/8231475...   \n",
       "374     http://twitter.com/2528776985/statuses/8246430...   \n",
       "375     http://twitter.com/2528776985/statuses/8249710...   \n",
       "376     http://twitter.com/2528776985/statuses/8256615...   \n",
       "...                                                   ...   \n",
       "242397  http://twitter.com/AtulScarpa/statuses/6218256...   \n",
       "242398  http://twitter.com/AtulScarpa/statuses/6358922...   \n",
       "242399  http://twitter.com/AtulScarpa/statuses/6485060...   \n",
       "242400  http://twitter.com/AtulScarpa/statuses/6488485...   \n",
       "242402  http://twitter.com/AtulScarpa/statuses/6415834...   \n",
       "\n",
       "                                               tco1_step1  \\\n",
       "372                                                   NaN   \n",
       "373                                                   NaN   \n",
       "374                                                   NaN   \n",
       "375                                                   NaN   \n",
       "376                                                   NaN   \n",
       "...                                                   ...   \n",
       "242397                                                NaN   \n",
       "242398                                                NaN   \n",
       "242399  https://twitter.com/zubovnik/status/6485038780...   \n",
       "242400  https://www.youtube.com/watch?v=Q-PvYtQ9GWU&fe...   \n",
       "242402     http://ria.ru/society/20150909/1239944110.html   \n",
       "\n",
       "                                               tco2_step1 tco3_step1  \n",
       "372                                                   NaN        NaN  \n",
       "373                                                   NaN        NaN  \n",
       "374                                                   NaN        NaN  \n",
       "375                                                   NaN        NaN  \n",
       "376                                                   NaN        NaN  \n",
       "...                                                   ...        ...  \n",
       "242397                                                NaN        NaN  \n",
       "242398                                                NaN        NaN  \n",
       "242399  http://boeing-is-back.livejournal.com/339835.html        NaN  \n",
       "242400                                                NaN        NaN  \n",
       "242402                                                NaN        NaN  \n",
       "\n",
       "[38411 rows x 21 columns]"
      ]
     },
     "execution_count": 24,
     "metadata": {},
     "output_type": "execute_result"
    }
   ],
   "source": [
    "df[df['language'] == 'Russian']\n"
   ]
  },
  {
   "cell_type": "code",
   "execution_count": 25,
   "metadata": {},
   "outputs": [
    {
     "ename": "NameError",
     "evalue": "name 'w2v_model' is not defined",
     "output_type": "error",
     "traceback": [
      "\u001b[1;31m---------------------------------------------------------------------------\u001b[0m",
      "\u001b[1;31mNameError\u001b[0m                                 Traceback (most recent call last)",
      "\u001b[1;32m<ipython-input-25-7c74a801085a>\u001b[0m in \u001b[0;36m<module>\u001b[1;34m\u001b[0m\n\u001b[1;32m----> 1\u001b[1;33m \u001b[0mw2v_model\u001b[0m\u001b[1;33m.\u001b[0m\u001b[0mwv\u001b[0m\u001b[1;33m.\u001b[0m\u001b[0mmost_similar\u001b[0m\u001b[1;33m(\u001b[0m\u001b[1;34m'doctor'\u001b[0m\u001b[1;33m,\u001b[0m \u001b[0mtopn\u001b[0m\u001b[1;33m=\u001b[0m\u001b[1;36m10\u001b[0m\u001b[1;33m)\u001b[0m\u001b[1;33m\u001b[0m\u001b[1;33m\u001b[0m\u001b[0m\n\u001b[0m",
      "\u001b[1;31mNameError\u001b[0m: name 'w2v_model' is not defined"
     ]
    }
   ],
   "source": [
    "w2v_model.wv.most_similar('doctor', topn=10)"
   ]
  },
  {
   "cell_type": "code",
   "execution_count": 36,
   "metadata": {},
   "outputs": [
    {
     "name": "stderr",
     "output_type": "stream",
     "text": [
      "INFO - 13:03:47: loading projection weights from C:\\Users\\Rajnish\\Desktop\\Assignment 4\\model.bin\n",
      "INFO - 13:03:47: loaded (12524, 200) matrix from C:\\Users\\Rajnish\\Desktop\\Assignment 4\\model.bin\n"
     ]
    }
   ],
   "source": [
    "from gensim.models import KeyedVectors\n",
    "from gensim.test.utils import datapath\n",
    "wv_from_bin = KeyedVectors.load_word2vec_format(datapath(r\"C:\\Users\\Rajnish\\Desktop\\Assignment 4\\model.bin\"), binary=True)"
   ]
  },
  {
   "cell_type": "code",
   "execution_count": 45,
   "metadata": {},
   "outputs": [
    {
     "name": "stderr",
     "output_type": "stream",
     "text": [
      "C:\\Users\\Rajnish\\Anaconda3\\lib\\site-packages\\ipykernel_launcher.py:1: DeprecationWarning: Call to deprecated `wv` (Attribute will be removed in 4.0.0, use self instead).\n",
      "  \"\"\"Entry point for launching an IPython kernel.\n"
     ]
    },
    {
     "data": {
      "text/plain": [
       "0.41568547"
      ]
     },
     "execution_count": 45,
     "metadata": {},
     "output_type": "execute_result"
    }
   ],
   "source": [
    "wv_from_bin.wv.similarity('president','he')"
   ]
  },
  {
   "cell_type": "code",
   "execution_count": 71,
   "metadata": {},
   "outputs": [
    {
     "name": "stderr",
     "output_type": "stream",
     "text": [
      "C:\\Users\\Rajnish\\Anaconda3\\lib\\site-packages\\ipykernel_launcher.py:1: DeprecationWarning: Call to deprecated `wv` (Attribute will be removed in 4.0.0, use self instead).\n",
      "  \"\"\"Entry point for launching an IPython kernel.\n"
     ]
    },
    {
     "data": {
      "text/plain": [
       "0.087333575"
      ]
     },
     "execution_count": 71,
     "metadata": {},
     "output_type": "execute_result"
    }
   ],
   "source": [
    "wv_from_bin.wv.similarity('barack_obama','genuine')\n",
    "wv_from_bin.wv.similarity('donald_trump','genuine')"
   ]
  },
  {
   "cell_type": "code",
   "execution_count": null,
   "metadata": {},
   "outputs": [],
   "source": []
  }
 ],
 "metadata": {
  "kernelspec": {
   "display_name": "Python 3",
   "language": "python",
   "name": "python3"
  },
  "language_info": {
   "codemirror_mode": {
    "name": "ipython",
    "version": 3
   },
   "file_extension": ".py",
   "mimetype": "text/x-python",
   "name": "python",
   "nbconvert_exporter": "python",
   "pygments_lexer": "ipython3",
   "version": "3.7.3"
  }
 },
 "nbformat": 4,
 "nbformat_minor": 2
}
