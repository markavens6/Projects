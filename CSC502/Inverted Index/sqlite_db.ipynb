{
  "nbformat": 4,
  "nbformat_minor": 0,
  "metadata": {
    "colab": {
      "name": "sqlite_db",
      "provenance": []
    },
    "kernelspec": {
      "name": "python3",
      "display_name": "Python 3"
    }
  },
  "cells": [
    {
      "cell_type": "code",
      "metadata": {
        "id": "NjrZsiWtJyk9",
        "colab_type": "code",
        "outputId": "8a82b655-7dcd-4592-880b-7eff57762da1",
        "colab": {
          "base_uri": "https://localhost:8080/",
          "height": 120
        }
      },
      "source": [
        "from google.colab import drive\n",
        "\n",
        "drive.mount('/content/drive')"
      ],
      "execution_count": 0,
      "outputs": [
        {
          "output_type": "stream",
          "text": [
            "Go to this URL in a browser: https://accounts.google.com/o/oauth2/auth?client_id=947318989803-6bn6qk8qdgf4n4g3pfee6491hc0brc4i.apps.googleusercontent.com&redirect_uri=urn%3aietf%3awg%3aoauth%3a2.0%3aoob&response_type=code&scope=email%20https%3a%2f%2fwww.googleapis.com%2fauth%2fdocs.test%20https%3a%2f%2fwww.googleapis.com%2fauth%2fdrive%20https%3a%2f%2fwww.googleapis.com%2fauth%2fdrive.photos.readonly%20https%3a%2f%2fwww.googleapis.com%2fauth%2fpeopleapi.readonly\n",
            "\n",
            "Enter your authorization code:\n",
            "··········\n",
            "Mounted at /content/drive\n"
          ],
          "name": "stdout"
        }
      ]
    },
    {
      "cell_type": "code",
      "metadata": {
        "id": "WL5hLLNGJ4jy",
        "colab_type": "code",
        "colab": {}
      },
      "source": [
        "import pandas as pd\n",
        "import sqlite3 as db"
      ],
      "execution_count": 0,
      "outputs": []
    },
    {
      "cell_type": "code",
      "metadata": {
        "id": "IrZop351KEQI",
        "colab_type": "code",
        "colab": {}
      },
      "source": [
        "path= '/content/drive/My Drive/doc_mag.txt'\n",
        "path1= '/content/drive/My Drive/inv_idx.txt'"
      ],
      "execution_count": 0,
      "outputs": []
    },
    {
      "cell_type": "code",
      "metadata": {
        "id": "k80EDAfVKLrJ",
        "colab_type": "code",
        "colab": {}
      },
      "source": [
        "df = pd.read_csv(path, sep=\",\", header=None, names=[\"docid\", \"maxf\",\"mag\"])"
      ],
      "execution_count": 0,
      "outputs": []
    },
    {
      "cell_type": "code",
      "metadata": {
        "id": "8AFckv4mNEta",
        "colab_type": "code",
        "colab": {}
      },
      "source": [
        "df['mag'] = df['mag'].str.strip('()')\n",
        "df['maxf'] =  df['maxf'].apply(lambda x: x.replace('(','').replace(')','')) \n",
        "df['docid'] = df['docid'].str.strip('()')"
      ],
      "execution_count": 0,
      "outputs": []
    },
    {
      "cell_type": "code",
      "metadata": {
        "id": "xZfuA9DlRCKJ",
        "colab_type": "code",
        "outputId": "23e40b4b-0e9d-479f-fab4-5143ba2e592b",
        "colab": {
          "base_uri": "https://localhost:8080/",
          "height": 404
        }
      },
      "source": [
        "df"
      ],
      "execution_count": 0,
      "outputs": [
        {
          "output_type": "execute_result",
          "data": {
            "text/html": [
              "<div>\n",
              "<style scoped>\n",
              "    .dataframe tbody tr th:only-of-type {\n",
              "        vertical-align: middle;\n",
              "    }\n",
              "\n",
              "    .dataframe tbody tr th {\n",
              "        vertical-align: top;\n",
              "    }\n",
              "\n",
              "    .dataframe thead th {\n",
              "        text-align: right;\n",
              "    }\n",
              "</style>\n",
              "<table border=\"1\" class=\"dataframe\">\n",
              "  <thead>\n",
              "    <tr style=\"text-align: right;\">\n",
              "      <th></th>\n",
              "      <th>docid</th>\n",
              "      <th>maxf</th>\n",
              "      <th>mag</th>\n",
              "    </tr>\n",
              "  </thead>\n",
              "  <tbody>\n",
              "    <tr>\n",
              "      <th>0</th>\n",
              "      <td>16400</td>\n",
              "      <td>8</td>\n",
              "      <td>0.0034821916809178732</td>\n",
              "    </tr>\n",
              "    <tr>\n",
              "      <th>1</th>\n",
              "      <td>15216</td>\n",
              "      <td>4</td>\n",
              "      <td>0.04384375136310996</td>\n",
              "    </tr>\n",
              "    <tr>\n",
              "      <th>2</th>\n",
              "      <td>13100</td>\n",
              "      <td>4</td>\n",
              "      <td>1.0009134527283605</td>\n",
              "    </tr>\n",
              "    <tr>\n",
              "      <th>3</th>\n",
              "      <td>15168</td>\n",
              "      <td>6</td>\n",
              "      <td>0.007492377558908097</td>\n",
              "    </tr>\n",
              "    <tr>\n",
              "      <th>4</th>\n",
              "      <td>13044</td>\n",
              "      <td>5</td>\n",
              "      <td>0.13502771593329124</td>\n",
              "    </tr>\n",
              "    <tr>\n",
              "      <th>...</th>\n",
              "      <td>...</td>\n",
              "      <td>...</td>\n",
              "      <td>...</td>\n",
              "    </tr>\n",
              "    <tr>\n",
              "      <th>9211</th>\n",
              "      <td>4773</td>\n",
              "      <td>4</td>\n",
              "      <td>0.013980125061547444</td>\n",
              "    </tr>\n",
              "    <tr>\n",
              "      <th>9212</th>\n",
              "      <td>6825</td>\n",
              "      <td>2</td>\n",
              "      <td>0.2502591922982213</td>\n",
              "    </tr>\n",
              "    <tr>\n",
              "      <th>9213</th>\n",
              "      <td>4169</td>\n",
              "      <td>8</td>\n",
              "      <td>0.003937188174844047</td>\n",
              "    </tr>\n",
              "    <tr>\n",
              "      <th>9214</th>\n",
              "      <td>701</td>\n",
              "      <td>2</td>\n",
              "      <td>0.001076517850049742</td>\n",
              "    </tr>\n",
              "    <tr>\n",
              "      <th>9215</th>\n",
              "      <td>9477</td>\n",
              "      <td>2</td>\n",
              "      <td>0.06319980849650769</td>\n",
              "    </tr>\n",
              "  </tbody>\n",
              "</table>\n",
              "<p>9216 rows × 3 columns</p>\n",
              "</div>"
            ],
            "text/plain": [
              "      docid maxf                     mag\n",
              "0     16400    8   0.0034821916809178732\n",
              "1     15216    4     0.04384375136310996\n",
              "2     13100    4      1.0009134527283605\n",
              "3     15168    6    0.007492377558908097\n",
              "4     13044    5     0.13502771593329124\n",
              "...     ...  ...                     ...\n",
              "9211   4773    4    0.013980125061547444\n",
              "9212   6825    2      0.2502591922982213\n",
              "9213   4169    8    0.003937188174844047\n",
              "9214    701    2    0.001076517850049742\n",
              "9215   9477    2     0.06319980849650769\n",
              "\n",
              "[9216 rows x 3 columns]"
            ]
          },
          "metadata": {
            "tags": []
          },
          "execution_count": 6
        }
      ]
    },
    {
      "cell_type": "code",
      "metadata": {
        "id": "c_EAgGfJT7Ry",
        "colab_type": "code",
        "colab": {}
      },
      "source": [
        "df1 = pd.read_csv(path1, sep=\"^([^,]+),\", engine='python', header=None, names=[\"word\", \"postinglist_freq_tfidf\"])\n",
        "df1.reset_index(inplace=True, drop=True)"
      ],
      "execution_count": 0,
      "outputs": []
    },
    {
      "cell_type": "code",
      "metadata": {
        "id": "2tl7eqyDbDIL",
        "colab_type": "code",
        "colab": {}
      },
      "source": [
        "df1['word'] =  df1['word'].apply(lambda x: x.replace('(',''))\n",
        "df1['word'] = df1['word'].str.replace(r\"[\\\"\\',]\", '').replace('(','')\n",
        "df1['postinglist_freq_tfidf'] =  df1['postinglist_freq_tfidf'].apply(lambda x: x.replace('[','').replace(']',''))\n",
        "df1['postinglist_freq_tfidf']=[i.rsplit(')', 1)[0] for i in df1['postinglist_freq_tfidf']]"
      ],
      "execution_count": 0,
      "outputs": []
    },
    {
      "cell_type": "code",
      "metadata": {
        "id": "U-lVvGFhbDww",
        "colab_type": "code",
        "outputId": "99b8b55f-18cb-4c41-f61c-fadbc6d055d3",
        "colab": {
          "base_uri": "https://localhost:8080/",
          "height": 404
        }
      },
      "source": [
        "df1"
      ],
      "execution_count": 0,
      "outputs": [
        {
          "output_type": "execute_result",
          "data": {
            "text/html": [
              "<div>\n",
              "<style scoped>\n",
              "    .dataframe tbody tr th:only-of-type {\n",
              "        vertical-align: middle;\n",
              "    }\n",
              "\n",
              "    .dataframe tbody tr th {\n",
              "        vertical-align: top;\n",
              "    }\n",
              "\n",
              "    .dataframe thead th {\n",
              "        text-align: right;\n",
              "    }\n",
              "</style>\n",
              "<table border=\"1\" class=\"dataframe\">\n",
              "  <thead>\n",
              "    <tr style=\"text-align: right;\">\n",
              "      <th></th>\n",
              "      <th>word</th>\n",
              "      <th>postinglist_freq_tfidf</th>\n",
              "    </tr>\n",
              "  </thead>\n",
              "  <tbody>\n",
              "    <tr>\n",
              "      <th>0</th>\n",
              "      <td>apr</td>\n",
              "      <td>(12959, 1, 4.215851602023609e-05), (16400, 1,...</td>\n",
              "    </tr>\n",
              "    <tr>\n",
              "      <th>1</th>\n",
              "      <td>latex</td>\n",
              "      <td>(12959, 3, 0.04), (19479, 1, 0.00444444444444...</td>\n",
              "    </tr>\n",
              "    <tr>\n",
              "      <th>2</th>\n",
              "      <td>plant</td>\n",
              "      <td>(12959, 5, 0.0015772870662460567), (3318, 4, ...</td>\n",
              "    </tr>\n",
              "    <tr>\n",
              "      <th>3</th>\n",
              "      <td>canada</td>\n",
              "      <td>(12959, 1, 0.00028288543140028293), (14357, 1...</td>\n",
              "    </tr>\n",
              "    <tr>\n",
              "      <th>4</th>\n",
              "      <td>development</td>\n",
              "      <td>(12959, 1, 0.0001774622892635315), (10603, 1,...</td>\n",
              "    </tr>\n",
              "    <tr>\n",
              "      <th>...</th>\n",
              "      <td>...</td>\n",
              "      <td>...</td>\n",
              "    </tr>\n",
              "    <tr>\n",
              "      <th>19451</th>\n",
              "      <td>sarrazin</td>\n",
              "      <td>(7582, 4, 0.6666666666666666)</td>\n",
              "    </tr>\n",
              "    <tr>\n",
              "      <th>19452</th>\n",
              "      <td>particiaping</td>\n",
              "      <td>(8436, 1, 0.25)</td>\n",
              "    </tr>\n",
              "    <tr>\n",
              "      <th>19453</th>\n",
              "      <td>vme</td>\n",
              "      <td>(13865, 4, 0.4)</td>\n",
              "    </tr>\n",
              "    <tr>\n",
              "      <th>19454</th>\n",
              "      <td>chassis</td>\n",
              "      <td>(13865, 1, 0.1)</td>\n",
              "    </tr>\n",
              "    <tr>\n",
              "      <th>19455</th>\n",
              "      <td>mvsb</td>\n",
              "      <td>(13865, 2, 0.2)</td>\n",
              "    </tr>\n",
              "  </tbody>\n",
              "</table>\n",
              "<p>19456 rows × 2 columns</p>\n",
              "</div>"
            ],
            "text/plain": [
              "               word                             postinglist_freq_tfidf\n",
              "0               apr   (12959, 1, 4.215851602023609e-05), (16400, 1,...\n",
              "1             latex   (12959, 3, 0.04), (19479, 1, 0.00444444444444...\n",
              "2             plant   (12959, 5, 0.0015772870662460567), (3318, 4, ...\n",
              "3            canada   (12959, 1, 0.00028288543140028293), (14357, 1...\n",
              "4       development   (12959, 1, 0.0001774622892635315), (10603, 1,...\n",
              "...             ...                                                ...\n",
              "19451      sarrazin                      (7582, 4, 0.6666666666666666)\n",
              "19452  particiaping                                    (8436, 1, 0.25)\n",
              "19453           vme                                    (13865, 4, 0.4)\n",
              "19454       chassis                                    (13865, 1, 0.1)\n",
              "19455          mvsb                                    (13865, 2, 0.2)\n",
              "\n",
              "[19456 rows x 2 columns]"
            ]
          },
          "metadata": {
            "tags": []
          },
          "execution_count": 9
        }
      ]
    },
    {
      "cell_type": "code",
      "metadata": {
        "id": "iU6Cb-9wcn3Z",
        "colab_type": "code",
        "colab": {}
      },
      "source": [
        "\n",
        "pp=0\n",
        "if pp==1:\n",
        "  con = db.connect('/content/drive/My Drive/inv_idx_db.db')\n",
        "  cur = con.cursor()\n",
        "  df.to_sql(name='doc_mag',if_exists='replace',con=con)\n",
        "  df1.to_sql(name='inv_idx',if_exists='replace',con=con)"
      ],
      "execution_count": 0,
      "outputs": []
    },
    {
      "cell_type": "code",
      "metadata": {
        "id": "Vwm9ocJTf_Ix",
        "colab_type": "code",
        "outputId": "02598b40-c28a-45a4-d78a-0178f213e206",
        "colab": {
          "base_uri": "https://localhost:8080/",
          "height": 50
        }
      },
      "source": [
        "x=cur.execute(\"SELECT * FROM sqlite_master where type='table'\")\n",
        "\n",
        "for y in x.fetchall():\n",
        "    print(y)"
      ],
      "execution_count": 0,
      "outputs": [
        {
          "output_type": "stream",
          "text": [
            "('table', 'doc_mag', 'doc_mag', 2, 'CREATE TABLE \"doc_mag\" (\\n\"index\" INTEGER,\\n  \"docid\" TEXT,\\n  \"maxf\" TEXT,\\n  \"mag\" TEXT\\n)')\n",
            "('table', 'inv_idx', 'inv_idx', 119, 'CREATE TABLE \"inv_idx\" (\\n\"index\" INTEGER,\\n  \"word\" TEXT,\\n  \"postinglist_freq_tfidf\" TEXT\\n)')\n"
          ],
          "name": "stdout"
        }
      ]
    },
    {
      "cell_type": "markdown",
      "metadata": {
        "id": "dPvO-JcAlj_R",
        "colab_type": "text"
      },
      "source": [
        ""
      ]
    },
    {
      "cell_type": "code",
      "metadata": {
        "id": "gU2SpHNnjtpU",
        "colab_type": "code",
        "outputId": "85d204df-3042-468a-9a37-df3ebbd5ac46",
        "colab": {
          "base_uri": "https://localhost:8080/",
          "height": 128
        }
      },
      "source": [
        "def lookup():\n",
        "  "
      ],
      "execution_count": 0,
      "outputs": [
        {
          "output_type": "error",
          "ename": "SyntaxError",
          "evalue": "ignored",
          "traceback": [
            "\u001b[0;36m  File \u001b[0;32m\"<ipython-input-45-abe3c9d66e82>\"\u001b[0;36m, line \u001b[0;32m2\u001b[0m\n\u001b[0;31m    \u001b[0m\n\u001b[0m    ^\u001b[0m\n\u001b[0;31mSyntaxError\u001b[0m\u001b[0;31m:\u001b[0m unexpected EOF while parsing\n"
          ]
        }
      ]
    },
    {
      "cell_type": "code",
      "metadata": {
        "id": "sQAPlyQDj4_7",
        "colab_type": "code",
        "colab": {}
      },
      "source": [
        "query=\"Hey Asshole\"\n",
        "list1=[]\n",
        "splitting_sent= query.split()\n"
      ],
      "execution_count": 0,
      "outputs": []
    },
    {
      "cell_type": "code",
      "metadata": {
        "id": "YPKdg4Xrfyl1",
        "colab_type": "code",
        "colab": {}
      },
      "source": [
        ""
      ],
      "execution_count": 0,
      "outputs": []
    },
    {
      "cell_type": "code",
      "metadata": {
        "id": "S8lcQIGMgLAH",
        "colab_type": "code",
        "colab": {}
      },
      "source": [
        "y=cur.execute(\"SELECT * FROM inv_idx WHERE word like '%abc%'\")"
      ],
      "execution_count": 0,
      "outputs": []
    },
    {
      "cell_type": "code",
      "metadata": {
        "id": "1CAzlkV7kiH1",
        "colab_type": "code",
        "outputId": "1835542f-5eb5-4191-c1f9-5f1607cacca9",
        "colab": {
          "base_uri": "https://localhost:8080/",
          "height": 87
        }
      },
      "source": [
        "for x in y.fetchall():\n",
        "  print(x)"
      ],
      "execution_count": 0,
      "outputs": [
        {
          "output_type": "stream",
          "text": [
            "(2558, 'abc', ' (10934, 2, 0.013888888888888888), (12328, 4, 0.014814814814814815), (6457, 1, 0.027777777777777776), (13073, 5, 0.018518518518518517), (18717, 1, 0.013888888888888888), (16828, 1, 0.009259259259259259), (20409, 1, 0.011111111111111112), (1333, 1, 0.013888888888888888), (10759, 1, 0.009259259259259259), (20855, 1, 0.006944444444444444), (386, 1, 0.006172839506172839), (397, 1, 0.006944444444444444), (16540, 2, 0.015873015873015872), (14737, 8, 0.05555555555555555), (10948, 1, 0.011111111111111112), (7203, 5, 0.0308641975308642), (17310, 3, 0.027777777777777776), (16968, 1, 0.009259259259259259)')\n",
            "(17158, 'abci', ' (18635, 1, 0.16666666666666666)')\n",
            "(17222, 'rehabcare', ' (14533, 1, 0.16666666666666666)')\n"
          ],
          "name": "stdout"
        }
      ]
    },
    {
      "cell_type": "code",
      "metadata": {
        "id": "QTpE0eSjk63S",
        "colab_type": "code",
        "colab": {}
      },
      "source": [
        ""
      ],
      "execution_count": 0,
      "outputs": []
    }
  ]
}